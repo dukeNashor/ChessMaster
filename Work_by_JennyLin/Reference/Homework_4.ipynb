{
  "nbformat": 4,
  "nbformat_minor": 0,
  "metadata": {
    "colab": {
      "name": "Homework_4.ipynb",
      "provenance": [],
      "collapsed_sections": []
    },
    "kernelspec": {
      "name": "python3",
      "display_name": "Python 3"
    }
  },
  "cells": [
    {
      "cell_type": "markdown",
      "metadata": {
        "id": "qB_z7tGC1ZU0"
      },
      "source": [
        "<center> <h1> Deep Reinforcement Learning </h1> </center>\n",
        "\n",
        "In this homework, we will create a chess-playing agent.\n",
        "\n",
        "More specifically, we will:\n",
        "1. Implement a deep neural network to map board states to actions (i.e. policy).\n",
        "2. Make our agent play a great amount of simplified chess games against an opponent (weak stockfish chess engine).\n",
        "3. Assign rewards to game outcomes ( +1 for a win, -1 for a lost game, 0 for a draw).\n",
        "3. Using the rewards, we will estimate gradients to improve our policy function (deep neural network).\n",
        "4. Use our learnt policy to consistently defeat our opponent.\n",
        "\n",
        "<center> <h2> Setup </h2> </center>\n",
        "\n",
        "#### Google colaboratory\n",
        "\n",
        "Before getting started, get familiar with google colaboratory:\n",
        "https://colab.research.google.com/notebooks/welcome.ipynb\n",
        "\n",
        "This is a neat python environment that works in the cloud and does not require you to\n",
        "set up anything on your personal machine\n",
        "(it also has some built-in IDE features that make writing code easier).\n",
        "Moreover, it allows you to copy any existing collaboratory file, alter it and share\n",
        "with other people. In this homework, we will ask you to copy current colaboraty,\n",
        "complete all the tasks and share your colaboratory notebook with us so\n",
        "that we can grade it. We will also use colaboratory for the homework #4 so this\n",
        "homework will prepare you for it.\n",
        "\n",
        "#### Python-chess library\n",
        "\n",
        "In order to avoid implementing the rules of the chess and visualization features we will use\n",
        "a ```python-chess``` library. It is already a part of any google colaboratory environment so you do not\n",
        "need to do any additional steps. We recommend you to go through a small tutorial on ```python-chess``` library:\n",
        "https://jupyter.brynmawr.edu/services/public/dblank/CS371%20Cognitive%20Science/2016-Fall/Programming%20a%20Chess%20Player.ipynb\n",
        "\n",
        "#### Submission\n",
        "\n",
        "Before you start working on this homework do the following steps:\n",
        "\n",
        "1. Press __File > Save a copy in Drive...__ tab. This will allow you to have your own copy and change it.\n",
        "2. Follow all the steps in this collaboratory file and write/change/uncomment code as necessary.\n",
        "3. Do not forget to occasionally press __File > Save__ tab to save your progress.\n",
        "4. After all the changes are done and progress is saved press __Share__ button (top right corner of the page), press __get shareable link__ and make sure you have the option __Anyone with the link can view__ selected.\n",
        "5. Paste the link into your submission pdf file so that we can view it and grade.\n",
        "\n",
        "#### Additional\n",
        "\n",
        "Follow the steps below to get a latest python chess library, download a stockfish chess playing engine to model our opponent and install some visualization libraries to track our progress during training. Since we are using google colab be aware that it might restart the environment in 24h and you will have to run all the steps below once again.\n",
        "\n"
      ]
    },
    {
      "cell_type": "code",
      "metadata": {
        "id": "ZO4wM5xD821l"
      },
      "source": [
        "pip install python-chess~=0.26"
      ],
      "execution_count": null,
      "outputs": []
    },
    {
      "cell_type": "code",
      "metadata": {
        "id": "11IhPTmK9FPQ"
      },
      "source": [
        "pip install livelossplot==0.3.4"
      ],
      "execution_count": null,
      "outputs": []
    },
    {
      "cell_type": "code",
      "metadata": {
        "id": "Ro0yHLyA84HK"
      },
      "source": [
        "!wget https://www.dropbox.com/sh/75gzfgu7qo94pvh/AACk_w5M94GTwwhSItCqsemoa/Stockfish%205/stockfish-5-linux.zip"
      ],
      "execution_count": null,
      "outputs": []
    },
    {
      "cell_type": "code",
      "metadata": {
        "id": "fEw-m81K88uJ"
      },
      "source": [
        "!unzip stockfish-5-linux.zip"
      ],
      "execution_count": null,
      "outputs": []
    },
    {
      "cell_type": "code",
      "metadata": {
        "id": "UwXaLWiR9COQ"
      },
      "source": [
        "!chmod +x stockfish-5-linux/Linux/stockfish_14053109_x64"
      ],
      "execution_count": null,
      "outputs": []
    },
    {
      "cell_type": "markdown",
      "metadata": {
        "id": "ZxHEghUq9JWM"
      },
      "source": [
        "<center> <h2> Problem statement </h2> </center>\n",
        "\n",
        "In this work we will try to find the best move given current position of figures on the board, \n",
        "assuming that we play against a known player (weak stockfish player).\n",
        "\n",
        "(It is useful to know the rules of chess before you start:\n",
        "https://en.wikipedia.org/wiki/Rules_of_chess)\n",
        "\n",
        "\n",
        "To reduce the training time, we will make a couple of simplifications:\n",
        "\n",
        "1. We will always play with white figures.\n",
        "2. We will use a predefined simple starting position for the board.\n",
        "\n",
        "Below you can see our starting position: each opponent has 4 queens at the beginning.\n"
      ]
    },
    {
      "cell_type": "code",
      "metadata": {
        "id": "VLNm1D9s_O0O",
        "outputId": "e1a07931-78c0-4b8c-fd18-a5c14ab7a47a",
        "colab": {
          "base_uri": "https://localhost:8080/",
          "height": 421
        }
      },
      "source": [
        "import chess\n",
        "import chess.pgn\n",
        "import chess.engine\n",
        "\n",
        "import torch\n",
        "import numpy as np\n",
        "\n",
        "\n",
        "board = chess.Board(fen='2qqkqq1/8/8/8/8/8/8/2QQKQQ1 w - -')\n",
        "board"
      ],
      "execution_count": null,
      "outputs": [
        {
          "output_type": "execute_result",
          "data": {
            "text/plain": [
              "Board('2qqkqq1/8/8/8/8/8/8/2QQKQQ1 w - - 0 1')"
            ],
            "image/svg+xml": "<svg height=\"400\" version=\"1.1\" viewBox=\"0 0 400 400\" width=\"400\" xmlns=\"http://www.w3.org/2000/svg\" xmlns:xlink=\"http://www.w3.org/1999/xlink\"><defs><g class=\"white queen\" fill=\"#fff\" fill-rule=\"evenodd\" id=\"white-queen\" stroke=\"#000\" stroke-linecap=\"round\" stroke-linejoin=\"round\" stroke-width=\"1.5\"><path d=\"M8 12a2 2 0 1 1-4 0 2 2 0 1 1 4 0zM24.5 7.5a2 2 0 1 1-4 0 2 2 0 1 1 4 0zM41 12a2 2 0 1 1-4 0 2 2 0 1 1 4 0zM16 8.5a2 2 0 1 1-4 0 2 2 0 1 1 4 0zM33 9a2 2 0 1 1-4 0 2 2 0 1 1 4 0z\" /><path d=\"M9 26c8.5-1.5 21-1.5 27 0l2-12-7 11V11l-5.5 13.5-3-15-3 15-5.5-14V25L7 14l2 12zM9 26c0 2 1.5 2 2.5 4 1 1.5 1 1 .5 3.5-1.5 1-1.5 2.5-1.5 2.5-1.5 1.5.5 2.5.5 2.5 6.5 1 16.5 1 23 0 0 0 1.5-1 0-2.5 0 0 .5-1.5-1-2.5-.5-2.5-.5-2 .5-3.5 1-2 2.5-2 2.5-4-8.5-1.5-18.5-1.5-27 0z\" stroke-linecap=\"butt\" /><path d=\"M11.5 30c3.5-1 18.5-1 22 0M12 33.5c6-1 15-1 21 0\" fill=\"none\" /></g><g class=\"white king\" fill=\"none\" fill-rule=\"evenodd\" id=\"white-king\" stroke=\"#000\" stroke-linecap=\"round\" stroke-linejoin=\"round\" stroke-width=\"1.5\"><path d=\"M22.5 11.63V6M20 8h5\" stroke-linejoin=\"miter\" /><path d=\"M22.5 25s4.5-7.5 3-10.5c0 0-1-2.5-3-2.5s-3 2.5-3 2.5c-1.5 3 3 10.5 3 10.5\" fill=\"#fff\" stroke-linecap=\"butt\" stroke-linejoin=\"miter\" /><path d=\"M11.5 37c5.5 3.5 15.5 3.5 21 0v-7s9-4.5 6-10.5c-4-6.5-13.5-3.5-16 4V27v-3.5c-3.5-7.5-13-10.5-16-4-3 6 5 10 5 10V37z\" fill=\"#fff\" /><path d=\"M11.5 30c5.5-3 15.5-3 21 0m-21 3.5c5.5-3 15.5-3 21 0m-21 3.5c5.5-3 15.5-3 21 0\" /></g><g class=\"black queen\" fill=\"#000\" fill-rule=\"evenodd\" id=\"black-queen\" stroke=\"#000\" stroke-linecap=\"round\" stroke-linejoin=\"round\" stroke-width=\"1.5\"><g fill=\"#000\" stroke=\"none\"><circle cx=\"6\" cy=\"12\" r=\"2.75\" /><circle cx=\"14\" cy=\"9\" r=\"2.75\" /><circle cx=\"22.5\" cy=\"8\" r=\"2.75\" /><circle cx=\"31\" cy=\"9\" r=\"2.75\" /><circle cx=\"39\" cy=\"12\" r=\"2.75\" /></g><path d=\"M9 26c8.5-1.5 21-1.5 27 0l2.5-12.5L31 25l-.3-14.1-5.2 13.6-3-14.5-3 14.5-5.2-13.6L14 25 6.5 13.5 9 26zM9 26c0 2 1.5 2 2.5 4 1 1.5 1 1 .5 3.5-1.5 1-1.5 2.5-1.5 2.5-1.5 1.5.5 2.5.5 2.5 6.5 1 16.5 1 23 0 0 0 1.5-1 0-2.5 0 0 .5-1.5-1-2.5-.5-2.5-.5-2 .5-3.5 1-2 2.5-2 2.5-4-8.5-1.5-18.5-1.5-27 0z\" stroke-linecap=\"butt\" /><path d=\"M11 38.5a35 35 1 0 0 23 0\" fill=\"none\" stroke-linecap=\"butt\" /><path d=\"M11 29a35 35 1 0 1 23 0M12.5 31.5h20M11.5 34.5a35 35 1 0 0 22 0M10.5 37.5a35 35 1 0 0 24 0\" fill=\"none\" stroke=\"#fff\" /></g><g class=\"black king\" fill=\"none\" fill-rule=\"evenodd\" id=\"black-king\" stroke=\"#000\" stroke-linecap=\"round\" stroke-linejoin=\"round\" stroke-width=\"1.5\"><path d=\"M22.5 11.63V6\" stroke-linejoin=\"miter\" /><path d=\"M22.5 25s4.5-7.5 3-10.5c0 0-1-2.5-3-2.5s-3 2.5-3 2.5c-1.5 3 3 10.5 3 10.5\" fill=\"#000\" stroke-linecap=\"butt\" stroke-linejoin=\"miter\" /><path d=\"M11.5 37c5.5 3.5 15.5 3.5 21 0v-7s9-4.5 6-10.5c-4-6.5-13.5-3.5-16 4V27v-3.5c-3.5-7.5-13-10.5-16-4-3 6 5 10 5 10V37z\" fill=\"#000\" /><path d=\"M20 8h5\" stroke-linejoin=\"miter\" /><path d=\"M32 29.5s8.5-4 6.03-9.65C34.15 14 25 18 22.5 24.5l.01 2.1-.01-2.1C20 18 9.906 14 6.997 19.85c-2.497 5.65 4.853 9 4.853 9M11.5 30c5.5-3 15.5-3 21 0m-21 3.5c5.5-3 15.5-3 21 0m-21 3.5c5.5-3 15.5-3 21 0\" stroke=\"#fff\" /></g></defs><rect class=\"square dark a1\" fill=\"#d18b47\" height=\"45\" stroke=\"none\" width=\"45\" x=\"20\" y=\"335\" /><rect class=\"square light b1\" fill=\"#ffce9e\" height=\"45\" stroke=\"none\" width=\"45\" x=\"65\" y=\"335\" /><rect class=\"square dark c1\" fill=\"#d18b47\" height=\"45\" stroke=\"none\" width=\"45\" x=\"110\" y=\"335\" /><use transform=\"translate(110, 335)\" xlink:href=\"#white-queen\" /><rect class=\"square light d1\" fill=\"#ffce9e\" height=\"45\" stroke=\"none\" width=\"45\" x=\"155\" y=\"335\" /><use transform=\"translate(155, 335)\" xlink:href=\"#white-queen\" /><rect class=\"square dark e1\" fill=\"#d18b47\" height=\"45\" stroke=\"none\" width=\"45\" x=\"200\" y=\"335\" /><use transform=\"translate(200, 335)\" xlink:href=\"#white-king\" /><rect class=\"square light f1\" fill=\"#ffce9e\" height=\"45\" stroke=\"none\" width=\"45\" x=\"245\" y=\"335\" /><use transform=\"translate(245, 335)\" xlink:href=\"#white-queen\" /><rect class=\"square dark g1\" fill=\"#d18b47\" height=\"45\" stroke=\"none\" width=\"45\" x=\"290\" y=\"335\" /><use transform=\"translate(290, 335)\" xlink:href=\"#white-queen\" /><rect class=\"square light h1\" fill=\"#ffce9e\" height=\"45\" stroke=\"none\" width=\"45\" x=\"335\" y=\"335\" /><rect class=\"square light a2\" fill=\"#ffce9e\" height=\"45\" stroke=\"none\" width=\"45\" x=\"20\" y=\"290\" /><rect class=\"square dark b2\" fill=\"#d18b47\" height=\"45\" stroke=\"none\" width=\"45\" x=\"65\" y=\"290\" /><rect class=\"square light c2\" fill=\"#ffce9e\" height=\"45\" stroke=\"none\" width=\"45\" x=\"110\" y=\"290\" /><rect class=\"square dark d2\" fill=\"#d18b47\" height=\"45\" stroke=\"none\" width=\"45\" x=\"155\" y=\"290\" /><rect class=\"square light e2\" fill=\"#ffce9e\" height=\"45\" stroke=\"none\" width=\"45\" x=\"200\" y=\"290\" /><rect class=\"square dark f2\" fill=\"#d18b47\" height=\"45\" stroke=\"none\" width=\"45\" x=\"245\" y=\"290\" /><rect class=\"square light g2\" fill=\"#ffce9e\" height=\"45\" stroke=\"none\" width=\"45\" x=\"290\" y=\"290\" /><rect class=\"square dark h2\" fill=\"#d18b47\" height=\"45\" stroke=\"none\" width=\"45\" x=\"335\" y=\"290\" /><rect class=\"square dark a3\" fill=\"#d18b47\" height=\"45\" stroke=\"none\" width=\"45\" x=\"20\" y=\"245\" /><rect class=\"square light b3\" fill=\"#ffce9e\" height=\"45\" stroke=\"none\" width=\"45\" x=\"65\" y=\"245\" /><rect class=\"square dark c3\" fill=\"#d18b47\" height=\"45\" stroke=\"none\" width=\"45\" x=\"110\" y=\"245\" /><rect class=\"square light d3\" fill=\"#ffce9e\" height=\"45\" stroke=\"none\" width=\"45\" x=\"155\" y=\"245\" /><rect class=\"square dark e3\" fill=\"#d18b47\" height=\"45\" stroke=\"none\" width=\"45\" x=\"200\" y=\"245\" /><rect class=\"square light f3\" fill=\"#ffce9e\" height=\"45\" stroke=\"none\" width=\"45\" x=\"245\" y=\"245\" /><rect class=\"square dark g3\" fill=\"#d18b47\" height=\"45\" stroke=\"none\" width=\"45\" x=\"290\" y=\"245\" /><rect class=\"square light h3\" fill=\"#ffce9e\" height=\"45\" stroke=\"none\" width=\"45\" x=\"335\" y=\"245\" /><rect class=\"square light a4\" fill=\"#ffce9e\" height=\"45\" stroke=\"none\" width=\"45\" x=\"20\" y=\"200\" /><rect class=\"square dark b4\" fill=\"#d18b47\" height=\"45\" stroke=\"none\" width=\"45\" x=\"65\" y=\"200\" /><rect class=\"square light c4\" fill=\"#ffce9e\" height=\"45\" stroke=\"none\" width=\"45\" x=\"110\" y=\"200\" /><rect class=\"square dark d4\" fill=\"#d18b47\" height=\"45\" stroke=\"none\" width=\"45\" x=\"155\" y=\"200\" /><rect class=\"square light e4\" fill=\"#ffce9e\" height=\"45\" stroke=\"none\" width=\"45\" x=\"200\" y=\"200\" /><rect class=\"square dark f4\" fill=\"#d18b47\" height=\"45\" stroke=\"none\" width=\"45\" x=\"245\" y=\"200\" /><rect class=\"square light g4\" fill=\"#ffce9e\" height=\"45\" stroke=\"none\" width=\"45\" x=\"290\" y=\"200\" /><rect class=\"square dark h4\" fill=\"#d18b47\" height=\"45\" stroke=\"none\" width=\"45\" x=\"335\" y=\"200\" /><rect class=\"square dark a5\" fill=\"#d18b47\" height=\"45\" stroke=\"none\" width=\"45\" x=\"20\" y=\"155\" /><rect class=\"square light b5\" fill=\"#ffce9e\" height=\"45\" stroke=\"none\" width=\"45\" x=\"65\" y=\"155\" /><rect class=\"square dark c5\" fill=\"#d18b47\" height=\"45\" stroke=\"none\" width=\"45\" x=\"110\" y=\"155\" /><rect class=\"square light d5\" fill=\"#ffce9e\" height=\"45\" stroke=\"none\" width=\"45\" x=\"155\" y=\"155\" /><rect class=\"square dark e5\" fill=\"#d18b47\" height=\"45\" stroke=\"none\" width=\"45\" x=\"200\" y=\"155\" /><rect class=\"square light f5\" fill=\"#ffce9e\" height=\"45\" stroke=\"none\" width=\"45\" x=\"245\" y=\"155\" /><rect class=\"square dark g5\" fill=\"#d18b47\" height=\"45\" stroke=\"none\" width=\"45\" x=\"290\" y=\"155\" /><rect class=\"square light h5\" fill=\"#ffce9e\" height=\"45\" stroke=\"none\" width=\"45\" x=\"335\" y=\"155\" /><rect class=\"square light a6\" fill=\"#ffce9e\" height=\"45\" stroke=\"none\" width=\"45\" x=\"20\" y=\"110\" /><rect class=\"square dark b6\" fill=\"#d18b47\" height=\"45\" stroke=\"none\" width=\"45\" x=\"65\" y=\"110\" /><rect class=\"square light c6\" fill=\"#ffce9e\" height=\"45\" stroke=\"none\" width=\"45\" x=\"110\" y=\"110\" /><rect class=\"square dark d6\" fill=\"#d18b47\" height=\"45\" stroke=\"none\" width=\"45\" x=\"155\" y=\"110\" /><rect class=\"square light e6\" fill=\"#ffce9e\" height=\"45\" stroke=\"none\" width=\"45\" x=\"200\" y=\"110\" /><rect class=\"square dark f6\" fill=\"#d18b47\" height=\"45\" stroke=\"none\" width=\"45\" x=\"245\" y=\"110\" /><rect class=\"square light g6\" fill=\"#ffce9e\" height=\"45\" stroke=\"none\" width=\"45\" x=\"290\" y=\"110\" /><rect class=\"square dark h6\" fill=\"#d18b47\" height=\"45\" stroke=\"none\" width=\"45\" x=\"335\" y=\"110\" /><rect class=\"square dark a7\" fill=\"#d18b47\" height=\"45\" stroke=\"none\" width=\"45\" x=\"20\" y=\"65\" /><rect class=\"square light b7\" fill=\"#ffce9e\" height=\"45\" stroke=\"none\" width=\"45\" x=\"65\" y=\"65\" /><rect class=\"square dark c7\" fill=\"#d18b47\" height=\"45\" stroke=\"none\" width=\"45\" x=\"110\" y=\"65\" /><rect class=\"square light d7\" fill=\"#ffce9e\" height=\"45\" stroke=\"none\" width=\"45\" x=\"155\" y=\"65\" /><rect class=\"square dark e7\" fill=\"#d18b47\" height=\"45\" stroke=\"none\" width=\"45\" x=\"200\" y=\"65\" /><rect class=\"square light f7\" fill=\"#ffce9e\" height=\"45\" stroke=\"none\" width=\"45\" x=\"245\" y=\"65\" /><rect class=\"square dark g7\" fill=\"#d18b47\" height=\"45\" stroke=\"none\" width=\"45\" x=\"290\" y=\"65\" /><rect class=\"square light h7\" fill=\"#ffce9e\" height=\"45\" stroke=\"none\" width=\"45\" x=\"335\" y=\"65\" /><rect class=\"square light a8\" fill=\"#ffce9e\" height=\"45\" stroke=\"none\" width=\"45\" x=\"20\" y=\"20\" /><rect class=\"square dark b8\" fill=\"#d18b47\" height=\"45\" stroke=\"none\" width=\"45\" x=\"65\" y=\"20\" /><rect class=\"square light c8\" fill=\"#ffce9e\" height=\"45\" stroke=\"none\" width=\"45\" x=\"110\" y=\"20\" /><use transform=\"translate(110, 20)\" xlink:href=\"#black-queen\" /><rect class=\"square dark d8\" fill=\"#d18b47\" height=\"45\" stroke=\"none\" width=\"45\" x=\"155\" y=\"20\" /><use transform=\"translate(155, 20)\" xlink:href=\"#black-queen\" /><rect class=\"square light e8\" fill=\"#ffce9e\" height=\"45\" stroke=\"none\" width=\"45\" x=\"200\" y=\"20\" /><use transform=\"translate(200, 20)\" xlink:href=\"#black-king\" /><rect class=\"square dark f8\" fill=\"#d18b47\" height=\"45\" stroke=\"none\" width=\"45\" x=\"245\" y=\"20\" /><use transform=\"translate(245, 20)\" xlink:href=\"#black-queen\" /><rect class=\"square light g8\" fill=\"#ffce9e\" height=\"45\" stroke=\"none\" width=\"45\" x=\"290\" y=\"20\" /><use transform=\"translate(290, 20)\" xlink:href=\"#black-queen\" /><rect class=\"square dark h8\" fill=\"#d18b47\" height=\"45\" stroke=\"none\" width=\"45\" x=\"335\" y=\"20\" /><text alignment-baseline=\"middle\" font-size=\"14\" text-anchor=\"middle\" x=\"42\" y=\"10\">a</text><text alignment-baseline=\"middle\" font-size=\"14\" text-anchor=\"middle\" x=\"42\" y=\"390\">a</text><text alignment-baseline=\"middle\" font-size=\"14\" text-anchor=\"middle\" x=\"87\" y=\"10\">b</text><text alignment-baseline=\"middle\" font-size=\"14\" text-anchor=\"middle\" x=\"87\" y=\"390\">b</text><text alignment-baseline=\"middle\" font-size=\"14\" text-anchor=\"middle\" x=\"132\" y=\"10\">c</text><text alignment-baseline=\"middle\" font-size=\"14\" text-anchor=\"middle\" x=\"132\" y=\"390\">c</text><text alignment-baseline=\"middle\" font-size=\"14\" text-anchor=\"middle\" x=\"177\" y=\"10\">d</text><text alignment-baseline=\"middle\" font-size=\"14\" text-anchor=\"middle\" x=\"177\" y=\"390\">d</text><text alignment-baseline=\"middle\" font-size=\"14\" text-anchor=\"middle\" x=\"222\" y=\"10\">e</text><text alignment-baseline=\"middle\" font-size=\"14\" text-anchor=\"middle\" x=\"222\" y=\"390\">e</text><text alignment-baseline=\"middle\" font-size=\"14\" text-anchor=\"middle\" x=\"267\" y=\"10\">f</text><text alignment-baseline=\"middle\" font-size=\"14\" text-anchor=\"middle\" x=\"267\" y=\"390\">f</text><text alignment-baseline=\"middle\" font-size=\"14\" text-anchor=\"middle\" x=\"312\" y=\"10\">g</text><text alignment-baseline=\"middle\" font-size=\"14\" text-anchor=\"middle\" x=\"312\" y=\"390\">g</text><text alignment-baseline=\"middle\" font-size=\"14\" text-anchor=\"middle\" x=\"357\" y=\"10\">h</text><text alignment-baseline=\"middle\" font-size=\"14\" text-anchor=\"middle\" x=\"357\" y=\"390\">h</text><text alignment-baseline=\"middle\" font-size=\"14\" text-anchor=\"middle\" x=\"10\" y=\"357\">1</text><text alignment-baseline=\"middle\" font-size=\"14\" text-anchor=\"middle\" x=\"390\" y=\"357\">1</text><text alignment-baseline=\"middle\" font-size=\"14\" text-anchor=\"middle\" x=\"10\" y=\"312\">2</text><text alignment-baseline=\"middle\" font-size=\"14\" text-anchor=\"middle\" x=\"390\" y=\"312\">2</text><text alignment-baseline=\"middle\" font-size=\"14\" text-anchor=\"middle\" x=\"10\" y=\"267\">3</text><text alignment-baseline=\"middle\" font-size=\"14\" text-anchor=\"middle\" x=\"390\" y=\"267\">3</text><text alignment-baseline=\"middle\" font-size=\"14\" text-anchor=\"middle\" x=\"10\" y=\"222\">4</text><text alignment-baseline=\"middle\" font-size=\"14\" text-anchor=\"middle\" x=\"390\" y=\"222\">4</text><text alignment-baseline=\"middle\" font-size=\"14\" text-anchor=\"middle\" x=\"10\" y=\"177\">5</text><text alignment-baseline=\"middle\" font-size=\"14\" text-anchor=\"middle\" x=\"390\" y=\"177\">5</text><text alignment-baseline=\"middle\" font-size=\"14\" text-anchor=\"middle\" x=\"10\" y=\"132\">6</text><text alignment-baseline=\"middle\" font-size=\"14\" text-anchor=\"middle\" x=\"390\" y=\"132\">6</text><text alignment-baseline=\"middle\" font-size=\"14\" text-anchor=\"middle\" x=\"10\" y=\"87\">7</text><text alignment-baseline=\"middle\" font-size=\"14\" text-anchor=\"middle\" x=\"390\" y=\"87\">7</text><text alignment-baseline=\"middle\" font-size=\"14\" text-anchor=\"middle\" x=\"10\" y=\"42\">8</text><text alignment-baseline=\"middle\" font-size=\"14\" text-anchor=\"middle\" x=\"390\" y=\"42\">8</text></svg>"
          },
          "metadata": {
            "tags": []
          },
          "execution_count": 1
        }
      ]
    },
    {
      "cell_type": "markdown",
      "metadata": {
        "id": "D7VZAmZJAj8V"
      },
      "source": [
        "<center> <h2> Board matrix representation </h2> </center>\n",
        "\n",
        "In order to be able to use neural network as a model for our policy we will have to convert the board into a matrix representation. We will end up with matrix of size $8 \\times 8$ where digit at every position will represent the presence of a figure or its absence. Here we use PyTorch framework and you might find [this tutorial useful ]( https://pytorch.org/tutorials/beginner/former_torchies/tensor_tutorial.html).\n",
        "Below we provide the code and show an example of matrix representation of the board position.\n",
        "\n",
        "\n"
      ]
    },
    {
      "cell_type": "code",
      "metadata": {
        "id": "EYO1Q_aPDD5I",
        "outputId": "8e61cc4c-841e-4b71-9f66-0d606b24c872",
        "colab": {
          "base_uri": "https://localhost:8080/",
          "height": 153
        }
      },
      "source": [
        "\n",
        "# A function that converts the board into matrix representation\n",
        "def board_to_tensor(board):\n",
        "    \n",
        "    # Python chess uses flattened representation of the board\n",
        "    x = torch.zeros(64, dtype=torch.float)\n",
        "\n",
        "    for pos in range(64):\n",
        "\n",
        "        piece = board.piece_type_at(pos)\n",
        "\n",
        "        if piece:\n",
        "\n",
        "            color = int(bool(board.occupied_co[chess.BLACK] & chess.BB_SQUARES[pos]))\n",
        "\n",
        "            col = int(pos % 8)\n",
        "            row = int(pos / 8)\n",
        "\n",
        "            x[row * 8 + col] = -piece if color else piece\n",
        "\n",
        "    x = x.reshape(8, 8)\n",
        "        \n",
        "    return x\n",
        "\n",
        "\n",
        "board_tensor = board_to_tensor(board)\n",
        "\n",
        "# For visualization we need to flip it to align with\n",
        "# the board picture. Positive numbers represent white figure, negative numbers\n",
        "# represent black figures. The maginitude of the number represents the figure type.\n",
        "np.flipud( board_tensor.numpy() )"
      ],
      "execution_count": null,
      "outputs": [
        {
          "output_type": "execute_result",
          "data": {
            "text/plain": [
              "array([[ 0.,  0., -5., -5., -6., -5., -5.,  0.],\n",
              "       [ 0.,  0.,  0.,  0.,  0.,  0.,  0.,  0.],\n",
              "       [ 0.,  0.,  0.,  0.,  0.,  0.,  0.,  0.],\n",
              "       [ 0.,  0.,  0.,  0.,  0.,  0.,  0.,  0.],\n",
              "       [ 0.,  0.,  0.,  0.,  0.,  0.,  0.,  0.],\n",
              "       [ 0.,  0.,  0.,  0.,  0.,  0.,  0.,  0.],\n",
              "       [ 0.,  0.,  0.,  0.,  0.,  0.,  0.,  0.],\n",
              "       [ 0.,  0.,  5.,  5.,  6.,  5.,  5.,  0.]], dtype=float32)"
            ]
          },
          "metadata": {
            "tags": []
          },
          "execution_count": 5
        }
      ]
    },
    {
      "cell_type": "markdown",
      "metadata": {
        "id": "6alE0Y4SF8d-"
      },
      "source": [
        "<center> <h2> Action matrix representation </h2> </center>\n",
        "\n",
        "On the other hand, the output of the network will be another tensor that we will have to use to decide which action to take. Our output tensor will be of the size $64 \\times 64$. The element in this tensor will represent an action of picking up a piece from a postion any position at the board ($64$ possible positions) and puting it on any position at the board (another  $64$ possible positions). We also make a small simplification here assuming that when a figure is promoted, it is always promoted to a queen. Not all actions will be legal given a position of the board but during training we will only take legal ones into consideration.\n",
        "\n",
        "Below you can see a set of function that implement the aforementioned representation. More specifically, we implement the function that finds an index of the element that represnets a move in the $64 \\times 64$ matrix.\n",
        "\n",
        "\n",
        "\n"
      ]
    },
    {
      "cell_type": "code",
      "metadata": {
        "id": "0xgLuG0WDtYc"
      },
      "source": [
        "\n",
        "def move_to_index_tensor(move):\n",
        "  \n",
        "    index_tensor = torch.LongTensor([0])\n",
        "\n",
        "    square_to_pick_figure = move.from_square\n",
        "\n",
        "    # Can decode exact position this way:\n",
        "    #square_to_pick_figure_row = int(square_to_pick_figure / 8)\n",
        "    #square_to_pick_figure_col = int(square_to_pick_figure % 8)\n",
        "\n",
        "    square_to_put_figure = move.to_square\n",
        "\n",
        "    # Can decode exact position this way:\n",
        "    #square_to_put_figure_row = int(square_to_put_figure / 8)\n",
        "    #square_to_put_figure_col = int(square_to_put_figure % 8)\n",
        "\n",
        "    index = square_to_pick_figure * 64 + square_to_put_figure\n",
        "\n",
        "    index_tensor = torch.LongTensor([index])\n",
        "\n",
        "    return index_tensor\n",
        "\n",
        "  \n",
        "def filter_legal_moves(legal_moves):\n",
        "  \n",
        "    filtered_legal_moves = []\n",
        "\n",
        "    for legal_move in legal_moves:\n",
        "\n",
        "        # Here we check if it is a promotion and\n",
        "        # only leave promotion if it is a promotion to a queen\n",
        "        if legal_move.promotion is not None:\n",
        "\n",
        "            if legal_move.promotion == 5:\n",
        "\n",
        "                filtered_legal_moves.append(legal_move)\n",
        "\n",
        "            continue\n",
        "\n",
        "        filtered_legal_moves.append(legal_move)\n",
        "\n",
        "    return filtered_legal_moves\n",
        "\n",
        "\n",
        "def legal_moves_to_index_tensors(legal_moves):\n",
        "  \n",
        "    legal_moves_index_tensors = [move_to_index_tensor(legal_move) for legal_move in legal_moves]\n",
        "\n",
        "    return legal_moves_index_tensors\n"
      ],
      "execution_count": null,
      "outputs": []
    },
    {
      "cell_type": "code",
      "metadata": {
        "id": "u-RZjYsoKSK_",
        "outputId": "d0957e40-209f-450a-bfc0-3a7e0aa665e7",
        "colab": {
          "base_uri": "https://localhost:8080/",
          "height": 102
        }
      },
      "source": [
        "legal_moves = list(board.legal_moves)\n",
        "\n",
        "index_tensors = legal_moves_to_index_tensors(legal_moves)\n",
        "\n",
        "print(legal_moves[1])\n",
        "\n",
        "# Coordinates of the board with the origin in the left bottom corner\n",
        "\n",
        "# Position of the square to pick the figure from\n",
        "print(index_tensors[1] / 64 / 8)\n",
        "print(index_tensors[1] / 64 % 8)\n",
        "\n",
        "# Position of the square to puth the figure to\n",
        "print(index_tensors[1] % 64 / 8)\n",
        "print(index_tensors[1] % 64 % 8)\n"
      ],
      "execution_count": null,
      "outputs": [
        {
          "output_type": "stream",
          "text": [
            "g1g7\n",
            "tensor([0])\n",
            "tensor([6])\n",
            "tensor([6])\n",
            "tensor([6])\n"
          ],
          "name": "stdout"
        }
      ]
    },
    {
      "cell_type": "markdown",
      "metadata": {
        "id": "yZwRUEDTNy1l"
      },
      "source": [
        "<center> <h2> Neural Network </h2> </center>\n",
        "\n",
        "Once we have the input and output tensors and their sizes, we can define a neural network\n",
        "that will predict the next move given current board. Here we will ask you to fill in missing part of our network definition. Have a look at [this tutorial](https://pytorch.org/tutorials/beginner/blitz/neural_networks_tutorial.html)  to get a better understanding of pytorch network API .\n",
        "\n",
        "\n"
      ]
    },
    {
      "cell_type": "code",
      "metadata": {
        "id": "GBhjlS3ZDIQu"
      },
      "source": [
        "import torch.nn as nn\n",
        "from torch.nn import functional as F\n",
        "\n",
        "# The input to the network is a tensor of size 8*8 (it is flattened)\n",
        "# The output of the network is 64*64 (it is flattened too)\n",
        "# The size of the hidden layer should be 512\n",
        "\n",
        "class Network(nn.Module):\n",
        "  \n",
        "    def __init__(self, number_of_actions=64*64):\n",
        "\n",
        "        super(Network, self).__init__()\n",
        "        \n",
        "        # Fill up the values below in nn.Linear()\n",
        "        self.layer1 = nn.Linear(64, 512)\n",
        "        self.layer2 = nn.Linear(512, number_of_actions)\n",
        "        \n",
        "        # Initialization of weights in the layers\n",
        "        nn.init.xavier_uniform_(self.layer1.weight)\n",
        "        nn.init.xavier_uniform_(self.layer2.weight)\n",
        "        \n",
        "                \n",
        "    def forward(self, x):\n",
        "\n",
        "        x =  F.relu( self.layer1(x) )\n",
        "        \n",
        "        # Logits will be fed into softmax layer to get probabilities\n",
        "        # for each move later.\n",
        "        logits =  self.layer2(x)\n",
        "        \n",
        "        return logits\n"
      ],
      "execution_count": null,
      "outputs": []
    },
    {
      "cell_type": "code",
      "metadata": {
        "id": "fCQ0ieBpQVKi",
        "outputId": "f21f4251-572c-4eb3-d42e-f07b5739709e",
        "colab": {
          "base_uri": "https://localhost:8080/",
          "height": 34
        }
      },
      "source": [
        "\n",
        "# Check the correctness of your code below\n",
        "net = Network(number_of_actions=64*64)\n",
        "\n",
        "dummy_input = torch.zeros(1, 64)\n",
        "\n",
        "output = net(dummy_input)\n",
        "print(output.shape)"
      ],
      "execution_count": null,
      "outputs": [
        {
          "output_type": "stream",
          "text": [
            "torch.Size([1, 4096])\n"
          ],
          "name": "stdout"
        }
      ]
    },
    {
      "cell_type": "markdown",
      "metadata": {
        "id": "Co8QGI3jS7Dl"
      },
      "source": [
        "<center> <h2> Rewards and reward discounting  </h2> </center>\n",
        "\n",
        "Now, let us assume that we used our network as is during one game and we got a reward at the end of the game. Most probably it will be $-1$ since our network does not know anything yet.\n",
        "\n",
        "But we ran our network multiple times with different board position before reaching the terminal state that gave us the reward. Now we should give reward to our every action during this game. We can either judge the goodness of every individual action based on whether or not we won the game at the end. Also it is a good practice to apply reward discounting. The idea of reward discounting is that we judge the \"goodness\" of an action by the sum of  exponentially discounted rewards obatined afterwards. For example, the sequence of actions right before we recieved the final reward (won the chess game) will get bigger scores. Also, in case of defeat, in the game of chess if you were checkmated, it is probably because of the last 10 moves or so -- therefore these moves will receive negative scores with bigger magnitude.\n",
        "Here is a formal definition of the reward discounting (discounted \"reward to go\").\n",
        "\n",
        "$$R_t = \\sum_{k=0}^{\\infty} \\gamma^k r_{t+k}$$\n",
        "\n",
        "Imagine that after the game, our $R_N$ (reward of the last action) is known to be either $-1$ $+1$ or $0$ and $\\gamma$ is equal to $0.99$ in our example.\n",
        "Below we will ask you to implement it."
      ]
    },
    {
      "cell_type": "code",
      "metadata": {
        "id": "cVvFRJ_kI9T0"
      },
      "source": [
        "\n",
        "# Collected moves is an array that contains\n",
        "# pairs of taken action and reward. You will have to adjust the reward\n",
        "# only\n",
        "# It can be this for example: [[None,0], [None,0], [None,0], [None,0], [None,-1]]if we lost\n",
        "# in four moves. None is placed for simplicity\n",
        "\n",
        "def discount_rewards(collected_moves, gamma=0.99):\n",
        "    \n",
        "    running_reward = 0.0\n",
        "\n",
        "    for index, collected_move in enumerate(reversed(collected_moves)):\n",
        "        \n",
        "        reward = collected_move[1]\n",
        "        running_reward = running_reward * gamma + reward\n",
        "        collected_move[1] = running_reward\n",
        "    "
      ],
      "execution_count": null,
      "outputs": []
    },
    {
      "cell_type": "code",
      "metadata": {
        "id": "RnSMPLlvZn9i",
        "outputId": "e31ad134-5a53-40fe-f3fa-d0b1eb36b03a",
        "colab": {
          "base_uri": "https://localhost:8080/",
          "height": 102
        }
      },
      "source": [
        "# Compare to our output\n",
        "dummy_input = [[None,0], [None,0], [None,0], [None,0], [None,1]]\n",
        "discount_rewards(dummy_input)\n",
        "dummy_input"
      ],
      "execution_count": null,
      "outputs": [
        {
          "output_type": "execute_result",
          "data": {
            "text/plain": [
              "[[None, 0.96059601],\n",
              " [None, 0.9702989999999999],\n",
              " [None, 0.9801],\n",
              " [None, 0.99],\n",
              " [None, 1.0]]"
            ]
          },
          "metadata": {
            "tags": []
          },
          "execution_count": 34
        }
      ]
    },
    {
      "cell_type": "markdown",
      "metadata": {
        "id": "AloFouRMbFRV"
      },
      "source": [
        "It is also a good practice to normalize the rewards to make the training more stable.\n",
        "Below we will ask you to subtract the mean of the rewards and divide that by its standart deviation."
      ]
    },
    {
      "cell_type": "code",
      "metadata": {
        "id": "namOSUJhZQwH"
      },
      "source": [
        "def normalize_rewards(collected_moves):\n",
        "    \n",
        "    normalized_rewards = np.asarray(list(map(lambda x: x[1], collected_moves)), dtype=np.float)\n",
        "    \n",
        "    normalized_rewards -= np.mean(normalized_rewards)\n",
        "    normalized_rewards /= np.std(normalized_rewards)\n",
        "    \n",
        "    \n",
        "    for index, collected_move in enumerate(collected_moves):\n",
        "        \n",
        "        collected_move[1] = normalized_rewards[index]\n"
      ],
      "execution_count": null,
      "outputs": []
    },
    {
      "cell_type": "code",
      "metadata": {
        "id": "p0yorcPBbmL6",
        "outputId": "8d53ad76-ca1d-4998-b8cb-bde5c762965a",
        "colab": {
          "base_uri": "https://localhost:8080/",
          "height": 102
        }
      },
      "source": [
        "# Compare to our output\n",
        "normalize_rewards(dummy_input)\n",
        "dummy_input"
      ],
      "execution_count": null,
      "outputs": [
        {
          "output_type": "execute_result",
          "data": {
            "text/plain": [
              "[[None, -1.407096445964472],\n",
              " [None, -0.710618951904956],\n",
              " [None, -0.007106331642812231],\n",
              " [None, 0.7035124767027847],\n",
              " [None, 1.4213092528094475]]"
            ]
          },
          "metadata": {
            "tags": []
          },
          "execution_count": 35
        }
      ]
    },
    {
      "cell_type": "markdown",
      "metadata": {
        "id": "c18U4s4Db9Hk"
      },
      "source": [
        "<center> <h2> Policy Gradients  </h2> </center>\n",
        "\n",
        "After we run each game with our opponent we recieve reward and we know which moves we made during that game. Using this data we can estimate gradients for parameters of our network. Having the gradients, we can update our weights after we played a couple of games and slightly improve our policy network. \n",
        "\n",
        "More precicely, it can be formulated as:\n",
        "\n",
        "$$\\nabla_{\\theta}J(\\theta) \\approx \\frac{1}{N} \\sum_{i=1}^{N} \\sum_{t=1}^{T}\\nabla_{\\theta} \\log \\pi_{\\theta}(a_{i,t}|s_{i,t}) \\left( \\sum_{t'=t}^{T} \\gamma^{t' - t} r(a_{i,t'},s_{i,t'})\\right)  \\\\ = \\frac{1}{N} \\sum_{i=1}^{N} \\sum_{t=1}^{T}\\nabla_{\\theta} \\log \\pi_{\\theta}(a_{i,t}|s_{i,t}) R_t$$\n",
        "\n",
        "\n",
        "\n",
        "Where $J$ is a function of expected reward that we are trying to increase. $\\pi_{\\theta}$ is our policy function which is modeled by neural network. $a_{i,t},s_{i,t}$ is an action taken in a game $i$ at time step $t$ given board position $ s_{i,t}$ at that time. $r(a_{i,t},s_{i,t})$ is a reward of that action. $R_t$ is a discounted \"reward to go\" defined previously. it should be emphasized that during training we sample actions from our policy function $\\pi_{\\theta}$ which allows to explore new different actions. For more information about the theory of this method we refer reader to at [these slides](http://rail.eecs.berkeley.edu/deeprlcourse/static/slides/lec-5.pdf). And for more practical example and intuition behind this method to  [this blog post](http://karpathy.github.io/2016/05/31/rl/).\n",
        "\n",
        "Below we provide the rest of the code for the aforementioned method.\n",
        "You can see the progress in real time during optimization. It is enough to get your agent to be equal or better to your opponent, after that you can stop the optimization. After that you can make it play against stockfish. It has to be mentioned that stockfish engine is random and sometimes makes different move given the same board position. It means that you can try multiple games and they all be different."
      ]
    },
    {
      "cell_type": "code",
      "metadata": {
        "id": "YUSXjfAvDJ6D"
      },
      "source": [
        "from torch.distributions import Categorical\n",
        "import random\n",
        "\n",
        "\n",
        "def get_games_data(policy_net, episodes=100):\n",
        "  \n",
        "    all_moves = []\n",
        "    \n",
        "    lost_count = 0\n",
        "    draw_count = 0\n",
        "    win_count = 0\n",
        "    \n",
        "    \n",
        "    game_lengths_sum = 0.0\n",
        "    \n",
        "    for episode in range(episodes):\n",
        "        \n",
        "        engine = chess.engine.SimpleEngine.popen_uci(\"stockfish-5-linux/Linux/stockfish_14053109_x64\")\n",
        "        engine.configure({\"Clear Hash\": True})\n",
        "        \n",
        "        board = chess.Board(fen='2qqkqq1/8/8/8/8/8/8/2QQKQQ1 w - -')\n",
        "        collected_moves = []\n",
        "        board_sign = 1\n",
        "        move_counter = 0.0\n",
        "        \n",
        "        while not board.is_game_over(claim_draw=True):\n",
        "\n",
        "            if board_sign == 1:\n",
        "\n",
        "                # Converting the board to a tensor representation\n",
        "                board_tensor = board_to_tensor(board).reshape(-1)\n",
        "\n",
        "                board_tensor_batched = board_tensor.unsqueeze(0)\n",
        "\n",
        "                # Getting the logits output\n",
        "                logits = policy_net(board_tensor_batched)\n",
        "\n",
        "                # Now we need to select only legal moves\n",
        "                # in python-chess format\n",
        "                current_legal_moves = filter_legal_moves(list(board.legal_moves))\n",
        "\n",
        "\n",
        "                legal_moves_index_tensors = legal_moves_to_index_tensors(current_legal_moves)\n",
        "\n",
        "\n",
        "                legal_moves_logits = logits[:, legal_moves_index_tensors]\n",
        "\n",
        "                # Here we sample the action using valid logits\n",
        "                categorical_sampler = Categorical(logits=(legal_moves_logits))\n",
        "\n",
        "                sampled_action = categorical_sampler.sample()\n",
        "\n",
        "                sampled_action_move_object = current_legal_moves[sampled_action]\n",
        "\n",
        "                log_prob = categorical_sampler.log_prob(sampled_action)\n",
        "\n",
        "                board.push(sampled_action_move_object)\n",
        "\n",
        "                # Board tensor, legal_moves_indexes, sampled_action_label, reward (0 if not known yet)\n",
        "                collected_moves.append([log_prob, 0.0])\n",
        "\n",
        "            else:\n",
        "                \n",
        "                result = engine.play(board, chess.engine.Limit(depth=1, nodes=3))\n",
        "                board.push(result.move)\n",
        "\n",
        "\n",
        "            board_sign = board_sign * -1\n",
        "            move_counter = move_counter + 1\n",
        "\n",
        "        \n",
        "        if board.is_checkmate():\n",
        "          \n",
        "          if board_sign == 1:\n",
        "            \n",
        "            reward = -1.0\n",
        "            lost_count = lost_count + 1\n",
        "          else:\n",
        "            \n",
        "            reward = 1.0\n",
        "            win_count = win_count + 1\n",
        "        \n",
        "        if not board.is_checkmate():\n",
        "          \n",
        "          reward = 0.1\n",
        "          draw_count = draw_count + 1\n",
        "\n",
        "        game_lengths_sum = game_lengths_sum + move_counter\n",
        "        \n",
        "        collected_moves[-1][1] = reward\n",
        "        \n",
        "        discount_rewards(collected_moves)\n",
        "        \n",
        "        all_moves.extend(collected_moves)\n",
        "        \n",
        "        engine.quit()\n",
        "    \n",
        "    \n",
        "    average_game_length = game_lengths_sum / episodes\n",
        "    \n",
        "    stats = { \"lost\": lost_count,\n",
        "              \"draw\": draw_count,\n",
        "              \"win\": win_count,\n",
        "              \"average game length\": average_game_length\n",
        "            }\n",
        "    \n",
        "    normalize_rewards(all_moves)\n",
        "    \n",
        "    \n",
        "    return all_moves, stats"
      ],
      "execution_count": null,
      "outputs": []
    },
    {
      "cell_type": "code",
      "metadata": {
        "id": "3x4TPZDFDOd2"
      },
      "source": [
        "import torch\n",
        "import torch.optim as optim\n",
        "\n",
        "net = Network(number_of_actions=64*64)\n",
        "\n",
        "optimizer = optim.Adam(net.parameters(), lr=0.01)"
      ],
      "execution_count": null,
      "outputs": []
    },
    {
      "cell_type": "code",
      "metadata": {
        "id": "S8ABGacAKUi-"
      },
      "source": [
        "from livelossplot import PlotLosses\n",
        "\n",
        "liveloss = PlotLosses()"
      ],
      "execution_count": null,
      "outputs": []
    },
    {
      "cell_type": "code",
      "metadata": {
        "id": "m3RfGEHlDQHd",
        "outputId": "106f2594-2e42-4c98-9a4d-a6124857a7ef",
        "colab": {
          "base_uri": "https://localhost:8080/",
          "height": 797
        }
      },
      "source": [
        "\n",
        "# Stop it when you are happy with the displayed results\n",
        "# Each iteration takes a while, be patient\n",
        "\n",
        "while True:\n",
        "    \n",
        "    collected_moves, stats = get_games_data(policy_net=net, episodes=100)\n",
        "    \n",
        "    logs = [collected_move[0] for collected_move in collected_moves]\n",
        "    rewards = [collected_move[1] for collected_move in collected_moves]\n",
        "    \n",
        "    logs_tensor = torch.cat(logs)\n",
        "    rewards_tensor = torch.FloatTensor(rewards)\n",
        "    \n",
        "    optimizer.zero_grad()\n",
        "\n",
        "    policy_loss = -logs_tensor * rewards_tensor\n",
        "\n",
        "    policy_loss = policy_loss.sum()\n",
        "    \n",
        "    policy_loss.backward()\n",
        "    \n",
        "    optimizer.step()\n",
        "    \n",
        "    liveloss.update(stats)\n",
        "    liveloss.draw()\n",
        "    "
      ],
      "execution_count": null,
      "outputs": [
        {
          "output_type": "display_data",
          "data": {
            "image/png": "[encoded data removed]",
            "text/plain": [
              "<Figure size 864x864 with 4 Axes>"
            ]
          },
          "metadata": {
            "tags": []
          }
        },
        {
          "output_type": "stream",
          "text": [
            "lost:\n",
            "training   (min:    0.000, max:   83.000, cur:    0.000)\n",
            "\n",
            "draw:\n",
            "training   (min:   14.000, max:   64.000, cur:   14.000)\n",
            "\n",
            "win:\n",
            "training   (min:    1.000, max:   86.000, cur:   86.000)\n",
            "\n",
            "average game length:\n",
            "training   (min:   12.320, max:   32.780, cur:   12.750)\n"
          ],
          "name": "stdout"
        }
      ]
    },
    {
      "cell_type": "markdown",
      "metadata": {
        "id": "orpJ2M_Ml5jb"
      },
      "source": [
        "Below you can test your agent against the stockfish play."
      ]
    },
    {
      "cell_type": "code",
      "metadata": {
        "id": "kEZ5yYAZPJ3H"
      },
      "source": [
        "engine = chess.engine.SimpleEngine.popen_uci(\"stockfish-5-linux/Linux/stockfish_14053109_x64\")\n",
        "engine.configure({\"Clear Hash\": True})\n",
        "moves = []\n",
        "\n",
        "board_sign = 1\n",
        "\n",
        "net.eval()\n",
        "\n",
        "board = chess.Board(fen='2qqkqq1/8/8/8/8/8/8/2QQKQQ1 w - -')\n",
        "\n",
        "while not board.is_game_over(claim_draw=True):\n",
        "    \n",
        "    if board_sign == 1:\n",
        "\n",
        "        # Converting the board to a tensor representation\n",
        "        board_tensor = board_to_tensor(board).reshape(-1)\n",
        "\n",
        "\n",
        "        board_tensor_batched = board_tensor.unsqueeze(0)\n",
        "\n",
        "        # Getting the logits output\n",
        "        logits = net(board_tensor_batched)\n",
        "\n",
        "        current_legal_moves = filter_legal_moves(list(board.legal_moves))\n",
        "\n",
        "\n",
        "        legal_moves_index_tensors = legal_moves_to_index_tensors(current_legal_moves)\n",
        "\n",
        "\n",
        "        legal_moves_logits = logits[:, legal_moves_index_tensors]\n",
        "\n",
        "        _, prediction = legal_moves_logits.max(1)\n",
        "        sampled_action_move_object = current_legal_moves[prediction]\n",
        "        board.push(sampled_action_move_object)\n",
        "    else:\n",
        "        \n",
        "        result = engine.play(board, chess.engine.Limit(depth=1, nodes=3))\n",
        "        board.push(result.move)\n",
        "\n",
        "    moves.append(board.copy())\n",
        "    board_sign = board_sign * -1\n",
        "\n",
        "engine.quit()"
      ],
      "execution_count": null,
      "outputs": []
    },
    {
      "cell_type": "markdown",
      "metadata": {
        "id": "Z4ma5m59EsoK"
      },
      "source": [
        ""
      ]
    },
    {
      "cell_type": "code",
      "metadata": {
        "id": "xIb6oszePM8C",
        "outputId": "f7f937f3-6080-41fe-e737-03254de81ec5",
        "colab": {
          "base_uri": "https://localhost:8080/",
          "height": 421
        }
      },
      "source": [
        "# See the game\n",
        "\n",
        "from time import sleep\n",
        "from IPython.display import display, HTML, clear_output\n",
        "\n",
        "def display_board(board, use_svg):\n",
        "    if use_svg:\n",
        "        return board._repr_svg_()\n",
        "    else:\n",
        "        return \"<pre>\" + str(board) + \"</pre>\"\n",
        "\n",
        "\n",
        "for move in moves:\n",
        "  \n",
        "  html = display_board(move, True)\n",
        "  clear_output(wait=True)\n",
        "  display(HTML(html))\n",
        "  sleep(4.0)"
      ],
      "execution_count": null,
      "outputs": [
        {
          "output_type": "display_data",
          "data": {
            "text/html": [
              "<svg height=\"400\" version=\"1.1\" viewBox=\"0 0 400 400\" width=\"400\" xmlns=\"http://www.w3.org/2000/svg\" xmlns:xlink=\"http://www.w3.org/1999/xlink\"><defs><g class=\"white queen\" fill=\"#fff\" fill-rule=\"evenodd\" id=\"white-queen\" stroke=\"#000\" stroke-linecap=\"round\" stroke-linejoin=\"round\" stroke-width=\"1.5\"><path d=\"M8 12a2 2 0 1 1-4 0 2 2 0 1 1 4 0zM24.5 7.5a2 2 0 1 1-4 0 2 2 0 1 1 4 0zM41 12a2 2 0 1 1-4 0 2 2 0 1 1 4 0zM16 8.5a2 2 0 1 1-4 0 2 2 0 1 1 4 0zM33 9a2 2 0 1 1-4 0 2 2 0 1 1 4 0z\" /><path d=\"M9 26c8.5-1.5 21-1.5 27 0l2-12-7 11V11l-5.5 13.5-3-15-3 15-5.5-14V25L7 14l2 12zM9 26c0 2 1.5 2 2.5 4 1 1.5 1 1 .5 3.5-1.5 1-1.5 2.5-1.5 2.5-1.5 1.5.5 2.5.5 2.5 6.5 1 16.5 1 23 0 0 0 1.5-1 0-2.5 0 0 .5-1.5-1-2.5-.5-2.5-.5-2 .5-3.5 1-2 2.5-2 2.5-4-8.5-1.5-18.5-1.5-27 0z\" stroke-linecap=\"butt\" /><path d=\"M11.5 30c3.5-1 18.5-1 22 0M12 33.5c6-1 15-1 21 0\" fill=\"none\" /></g><g class=\"white king\" fill=\"none\" fill-rule=\"evenodd\" id=\"white-king\" stroke=\"#000\" stroke-linecap=\"round\" stroke-linejoin=\"round\" stroke-width=\"1.5\"><path d=\"M22.5 11.63V6M20 8h5\" stroke-linejoin=\"miter\" /><path d=\"M22.5 25s4.5-7.5 3-10.5c0 0-1-2.5-3-2.5s-3 2.5-3 2.5c-1.5 3 3 10.5 3 10.5\" fill=\"#fff\" stroke-linecap=\"butt\" stroke-linejoin=\"miter\" /><path d=\"M11.5 37c5.5 3.5 15.5 3.5 21 0v-7s9-4.5 6-10.5c-4-6.5-13.5-3.5-16 4V27v-3.5c-3.5-7.5-13-10.5-16-4-3 6 5 10 5 10V37z\" fill=\"#fff\" /><path d=\"M11.5 30c5.5-3 15.5-3 21 0m-21 3.5c5.5-3 15.5-3 21 0m-21 3.5c5.5-3 15.5-3 21 0\" /></g><g class=\"black queen\" fill=\"#000\" fill-rule=\"evenodd\" id=\"black-queen\" stroke=\"#000\" stroke-linecap=\"round\" stroke-linejoin=\"round\" stroke-width=\"1.5\"><g fill=\"#000\" stroke=\"none\"><circle cx=\"6\" cy=\"12\" r=\"2.75\" /><circle cx=\"14\" cy=\"9\" r=\"2.75\" /><circle cx=\"22.5\" cy=\"8\" r=\"2.75\" /><circle cx=\"31\" cy=\"9\" r=\"2.75\" /><circle cx=\"39\" cy=\"12\" r=\"2.75\" /></g><path d=\"M9 26c8.5-1.5 21-1.5 27 0l2.5-12.5L31 25l-.3-14.1-5.2 13.6-3-14.5-3 14.5-5.2-13.6L14 25 6.5 13.5 9 26zM9 26c0 2 1.5 2 2.5 4 1 1.5 1 1 .5 3.5-1.5 1-1.5 2.5-1.5 2.5-1.5 1.5.5 2.5.5 2.5 6.5 1 16.5 1 23 0 0 0 1.5-1 0-2.5 0 0 .5-1.5-1-2.5-.5-2.5-.5-2 .5-3.5 1-2 2.5-2 2.5-4-8.5-1.5-18.5-1.5-27 0z\" stroke-linecap=\"butt\" /><path d=\"M11 38.5a35 35 1 0 0 23 0\" fill=\"none\" stroke-linecap=\"butt\" /><path d=\"M11 29a35 35 1 0 1 23 0M12.5 31.5h20M11.5 34.5a35 35 1 0 0 22 0M10.5 37.5a35 35 1 0 0 24 0\" fill=\"none\" stroke=\"#fff\" /></g><g class=\"black king\" fill=\"none\" fill-rule=\"evenodd\" id=\"black-king\" stroke=\"#000\" stroke-linecap=\"round\" stroke-linejoin=\"round\" stroke-width=\"1.5\"><path d=\"M22.5 11.63V6\" stroke-linejoin=\"miter\" /><path d=\"M22.5 25s4.5-7.5 3-10.5c0 0-1-2.5-3-2.5s-3 2.5-3 2.5c-1.5 3 3 10.5 3 10.5\" fill=\"#000\" stroke-linecap=\"butt\" stroke-linejoin=\"miter\" /><path d=\"M11.5 37c5.5 3.5 15.5 3.5 21 0v-7s9-4.5 6-10.5c-4-6.5-13.5-3.5-16 4V27v-3.5c-3.5-7.5-13-10.5-16-4-3 6 5 10 5 10V37z\" fill=\"#000\" /><path d=\"M20 8h5\" stroke-linejoin=\"miter\" /><path d=\"M32 29.5s8.5-4 6.03-9.65C34.15 14 25 18 22.5 24.5l.01 2.1-.01-2.1C20 18 9.906 14 6.997 19.85c-2.497 5.65 4.853 9 4.853 9M11.5 30c5.5-3 15.5-3 21 0m-21 3.5c5.5-3 15.5-3 21 0m-21 3.5c5.5-3 15.5-3 21 0\" stroke=\"#fff\" /></g><radialGradient id=\"check_gradient\"><stop offset=\"0%\" stop-color=\"#ff0000\" stop-opacity=\"1.0\" /><stop offset=\"50%\" stop-color=\"#e70000\" stop-opacity=\"1.0\" /><stop offset=\"100%\" stop-color=\"#9e0000\" stop-opacity=\"0.0\" /></radialGradient></defs><rect class=\"square dark a1\" fill=\"#d18b47\" height=\"45\" stroke=\"none\" width=\"45\" x=\"20\" y=\"335\" /><rect class=\"square light b1\" fill=\"#ffce9e\" height=\"45\" stroke=\"none\" width=\"45\" x=\"65\" y=\"335\" /><rect class=\"square dark c1\" fill=\"#d18b47\" height=\"45\" stroke=\"none\" width=\"45\" x=\"110\" y=\"335\" /><rect class=\"square light lastmove d1\" fill=\"#cdd16a\" height=\"45\" stroke=\"none\" width=\"45\" x=\"155\" y=\"335\" /><rect class=\"square dark e1\" fill=\"#d18b47\" height=\"45\" stroke=\"none\" width=\"45\" x=\"200\" y=\"335\" /><use transform=\"translate(200, 335)\" xlink:href=\"#white-king\" /><rect class=\"square light f1\" fill=\"#ffce9e\" height=\"45\" stroke=\"none\" width=\"45\" x=\"245\" y=\"335\" /><use transform=\"translate(245, 335)\" xlink:href=\"#white-queen\" /><rect class=\"square dark g1\" fill=\"#d18b47\" height=\"45\" stroke=\"none\" width=\"45\" x=\"290\" y=\"335\" /><use transform=\"translate(290, 335)\" xlink:href=\"#black-queen\" /><rect class=\"square light h1\" fill=\"#ffce9e\" height=\"45\" stroke=\"none\" width=\"45\" x=\"335\" y=\"335\" /><rect class=\"square light a2\" fill=\"#ffce9e\" height=\"45\" stroke=\"none\" width=\"45\" x=\"20\" y=\"290\" /><rect class=\"square dark b2\" fill=\"#d18b47\" height=\"45\" stroke=\"none\" width=\"45\" x=\"65\" y=\"290\" /><rect class=\"square light c2\" fill=\"#ffce9e\" height=\"45\" stroke=\"none\" width=\"45\" x=\"110\" y=\"290\" /><rect class=\"square dark d2\" fill=\"#d18b47\" height=\"45\" stroke=\"none\" width=\"45\" x=\"155\" y=\"290\" /><rect class=\"square light e2\" fill=\"#ffce9e\" height=\"45\" stroke=\"none\" width=\"45\" x=\"200\" y=\"290\" /><rect class=\"square dark f2\" fill=\"#d18b47\" height=\"45\" stroke=\"none\" width=\"45\" x=\"245\" y=\"290\" /><rect class=\"square light g2\" fill=\"#ffce9e\" height=\"45\" stroke=\"none\" width=\"45\" x=\"290\" y=\"290\" /><rect class=\"square dark h2\" fill=\"#d18b47\" height=\"45\" stroke=\"none\" width=\"45\" x=\"335\" y=\"290\" /><rect class=\"square dark a3\" fill=\"#d18b47\" height=\"45\" stroke=\"none\" width=\"45\" x=\"20\" y=\"245\" /><rect class=\"square light b3\" fill=\"#ffce9e\" height=\"45\" stroke=\"none\" width=\"45\" x=\"65\" y=\"245\" /><rect class=\"square dark c3\" fill=\"#d18b47\" height=\"45\" stroke=\"none\" width=\"45\" x=\"110\" y=\"245\" /><rect class=\"square light d3\" fill=\"#ffce9e\" height=\"45\" stroke=\"none\" width=\"45\" x=\"155\" y=\"245\" /><rect class=\"square dark e3\" fill=\"#d18b47\" height=\"45\" stroke=\"none\" width=\"45\" x=\"200\" y=\"245\" /><rect class=\"square light f3\" fill=\"#ffce9e\" height=\"45\" stroke=\"none\" width=\"45\" x=\"245\" y=\"245\" /><rect class=\"square dark g3\" fill=\"#d18b47\" height=\"45\" stroke=\"none\" width=\"45\" x=\"290\" y=\"245\" /><rect class=\"square light h3\" fill=\"#ffce9e\" height=\"45\" stroke=\"none\" width=\"45\" x=\"335\" y=\"245\" /><rect class=\"square light a4\" fill=\"#ffce9e\" height=\"45\" stroke=\"none\" width=\"45\" x=\"20\" y=\"200\" /><rect class=\"square dark b4\" fill=\"#d18b47\" height=\"45\" stroke=\"none\" width=\"45\" x=\"65\" y=\"200\" /><rect class=\"square light c4\" fill=\"#ffce9e\" height=\"45\" stroke=\"none\" width=\"45\" x=\"110\" y=\"200\" /><rect class=\"square dark d4\" fill=\"#d18b47\" height=\"45\" stroke=\"none\" width=\"45\" x=\"155\" y=\"200\" /><rect class=\"square light e4\" fill=\"#ffce9e\" height=\"45\" stroke=\"none\" width=\"45\" x=\"200\" y=\"200\" /><rect class=\"square dark f4\" fill=\"#d18b47\" height=\"45\" stroke=\"none\" width=\"45\" x=\"245\" y=\"200\" /><rect class=\"square light g4\" fill=\"#ffce9e\" height=\"45\" stroke=\"none\" width=\"45\" x=\"290\" y=\"200\" /><rect class=\"square dark h4\" fill=\"#d18b47\" height=\"45\" stroke=\"none\" width=\"45\" x=\"335\" y=\"200\" /><rect class=\"square dark a5\" fill=\"#d18b47\" height=\"45\" stroke=\"none\" width=\"45\" x=\"20\" y=\"155\" /><rect class=\"square light b5\" fill=\"#ffce9e\" height=\"45\" stroke=\"none\" width=\"45\" x=\"65\" y=\"155\" /><rect class=\"square dark c5\" fill=\"#d18b47\" height=\"45\" stroke=\"none\" width=\"45\" x=\"110\" y=\"155\" /><rect class=\"square light d5\" fill=\"#ffce9e\" height=\"45\" stroke=\"none\" width=\"45\" x=\"155\" y=\"155\" /><rect class=\"square dark e5\" fill=\"#d18b47\" height=\"45\" stroke=\"none\" width=\"45\" x=\"200\" y=\"155\" /><rect class=\"square light f5\" fill=\"#ffce9e\" height=\"45\" stroke=\"none\" width=\"45\" x=\"245\" y=\"155\" /><rect class=\"square dark g5\" fill=\"#d18b47\" height=\"45\" stroke=\"none\" width=\"45\" x=\"290\" y=\"155\" /><rect class=\"square light h5\" fill=\"#ffce9e\" height=\"45\" stroke=\"none\" width=\"45\" x=\"335\" y=\"155\" /><rect class=\"square light a6\" fill=\"#ffce9e\" height=\"45\" stroke=\"none\" width=\"45\" x=\"20\" y=\"110\" /><rect class=\"square dark b6\" fill=\"#d18b47\" height=\"45\" stroke=\"none\" width=\"45\" x=\"65\" y=\"110\" /><rect class=\"square light c6\" fill=\"#ffce9e\" height=\"45\" stroke=\"none\" width=\"45\" x=\"110\" y=\"110\" /><rect class=\"square dark d6\" fill=\"#d18b47\" height=\"45\" stroke=\"none\" width=\"45\" x=\"155\" y=\"110\" /><rect class=\"square light e6\" fill=\"#ffce9e\" height=\"45\" stroke=\"none\" width=\"45\" x=\"200\" y=\"110\" /><rect class=\"square dark f6\" fill=\"#d18b47\" height=\"45\" stroke=\"none\" width=\"45\" x=\"245\" y=\"110\" /><rect class=\"square light g6\" fill=\"#ffce9e\" height=\"45\" stroke=\"none\" width=\"45\" x=\"290\" y=\"110\" /><rect class=\"square dark h6\" fill=\"#d18b47\" height=\"45\" stroke=\"none\" width=\"45\" x=\"335\" y=\"110\" /><rect class=\"square dark a7\" fill=\"#d18b47\" height=\"45\" stroke=\"none\" width=\"45\" x=\"20\" y=\"65\" /><rect class=\"square light b7\" fill=\"#ffce9e\" height=\"45\" stroke=\"none\" width=\"45\" x=\"65\" y=\"65\" /><rect class=\"square dark c7\" fill=\"#d18b47\" height=\"45\" stroke=\"none\" width=\"45\" x=\"110\" y=\"65\" /><rect class=\"square light d7\" fill=\"#ffce9e\" height=\"45\" stroke=\"none\" width=\"45\" x=\"155\" y=\"65\" /><rect class=\"square dark e7\" fill=\"#d18b47\" height=\"45\" stroke=\"none\" width=\"45\" x=\"200\" y=\"65\" /><rect class=\"square light f7\" fill=\"#ffce9e\" height=\"45\" stroke=\"none\" width=\"45\" x=\"245\" y=\"65\" /><rect class=\"square dark g7\" fill=\"#d18b47\" height=\"45\" stroke=\"none\" width=\"45\" x=\"290\" y=\"65\" /><rect class=\"square light h7\" fill=\"#ffce9e\" height=\"45\" stroke=\"none\" width=\"45\" x=\"335\" y=\"65\" /><rect class=\"square light a8\" fill=\"#ffce9e\" height=\"45\" stroke=\"none\" width=\"45\" x=\"20\" y=\"20\" /><rect class=\"square dark b8\" fill=\"#d18b47\" height=\"45\" stroke=\"none\" width=\"45\" x=\"65\" y=\"20\" /><rect class=\"square light c8\" fill=\"#ffce9e\" height=\"45\" stroke=\"none\" width=\"45\" x=\"110\" y=\"20\" /><use transform=\"translate(110, 20)\" xlink:href=\"#white-queen\" /><rect class=\"square dark lastmove d8\" fill=\"#aaa23b\" height=\"45\" stroke=\"none\" width=\"45\" x=\"155\" y=\"20\" /><use transform=\"translate(155, 20)\" xlink:href=\"#white-queen\" /><rect class=\"square light e8\" fill=\"#ffce9e\" height=\"45\" stroke=\"none\" width=\"45\" x=\"200\" y=\"20\" /><rect class=\"check\" fill=\"url(#check_gradient)\" height=\"45\" width=\"45\" x=\"200\" y=\"20\" /><use transform=\"translate(200, 20)\" xlink:href=\"#black-king\" /><rect class=\"square dark f8\" fill=\"#d18b47\" height=\"45\" stroke=\"none\" width=\"45\" x=\"245\" y=\"20\" /><rect class=\"square light g8\" fill=\"#ffce9e\" height=\"45\" stroke=\"none\" width=\"45\" x=\"290\" y=\"20\" /><rect class=\"square dark h8\" fill=\"#d18b47\" height=\"45\" stroke=\"none\" width=\"45\" x=\"335\" y=\"20\" /><text alignment-baseline=\"middle\" font-size=\"14\" text-anchor=\"middle\" x=\"42\" y=\"10\">a</text><text alignment-baseline=\"middle\" font-size=\"14\" text-anchor=\"middle\" x=\"42\" y=\"390\">a</text><text alignment-baseline=\"middle\" font-size=\"14\" text-anchor=\"middle\" x=\"87\" y=\"10\">b</text><text alignment-baseline=\"middle\" font-size=\"14\" text-anchor=\"middle\" x=\"87\" y=\"390\">b</text><text alignment-baseline=\"middle\" font-size=\"14\" text-anchor=\"middle\" x=\"132\" y=\"10\">c</text><text alignment-baseline=\"middle\" font-size=\"14\" text-anchor=\"middle\" x=\"132\" y=\"390\">c</text><text alignment-baseline=\"middle\" font-size=\"14\" text-anchor=\"middle\" x=\"177\" y=\"10\">d</text><text alignment-baseline=\"middle\" font-size=\"14\" text-anchor=\"middle\" x=\"177\" y=\"390\">d</text><text alignment-baseline=\"middle\" font-size=\"14\" text-anchor=\"middle\" x=\"222\" y=\"10\">e</text><text alignment-baseline=\"middle\" font-size=\"14\" text-anchor=\"middle\" x=\"222\" y=\"390\">e</text><text alignment-baseline=\"middle\" font-size=\"14\" text-anchor=\"middle\" x=\"267\" y=\"10\">f</text><text alignment-baseline=\"middle\" font-size=\"14\" text-anchor=\"middle\" x=\"267\" y=\"390\">f</text><text alignment-baseline=\"middle\" font-size=\"14\" text-anchor=\"middle\" x=\"312\" y=\"10\">g</text><text alignment-baseline=\"middle\" font-size=\"14\" text-anchor=\"middle\" x=\"312\" y=\"390\">g</text><text alignment-baseline=\"middle\" font-size=\"14\" text-anchor=\"middle\" x=\"357\" y=\"10\">h</text><text alignment-baseline=\"middle\" font-size=\"14\" text-anchor=\"middle\" x=\"357\" y=\"390\">h</text><text alignment-baseline=\"middle\" font-size=\"14\" text-anchor=\"middle\" x=\"10\" y=\"357\">1</text><text alignment-baseline=\"middle\" font-size=\"14\" text-anchor=\"middle\" x=\"390\" y=\"357\">1</text><text alignment-baseline=\"middle\" font-size=\"14\" text-anchor=\"middle\" x=\"10\" y=\"312\">2</text><text alignment-baseline=\"middle\" font-size=\"14\" text-anchor=\"middle\" x=\"390\" y=\"312\">2</text><text alignment-baseline=\"middle\" font-size=\"14\" text-anchor=\"middle\" x=\"10\" y=\"267\">3</text><text alignment-baseline=\"middle\" font-size=\"14\" text-anchor=\"middle\" x=\"390\" y=\"267\">3</text><text alignment-baseline=\"middle\" font-size=\"14\" text-anchor=\"middle\" x=\"10\" y=\"222\">4</text><text alignment-baseline=\"middle\" font-size=\"14\" text-anchor=\"middle\" x=\"390\" y=\"222\">4</text><text alignment-baseline=\"middle\" font-size=\"14\" text-anchor=\"middle\" x=\"10\" y=\"177\">5</text><text alignment-baseline=\"middle\" font-size=\"14\" text-anchor=\"middle\" x=\"390\" y=\"177\">5</text><text alignment-baseline=\"middle\" font-size=\"14\" text-anchor=\"middle\" x=\"10\" y=\"132\">6</text><text alignment-baseline=\"middle\" font-size=\"14\" text-anchor=\"middle\" x=\"390\" y=\"132\">6</text><text alignment-baseline=\"middle\" font-size=\"14\" text-anchor=\"middle\" x=\"10\" y=\"87\">7</text><text alignment-baseline=\"middle\" font-size=\"14\" text-anchor=\"middle\" x=\"390\" y=\"87\">7</text><text alignment-baseline=\"middle\" font-size=\"14\" text-anchor=\"middle\" x=\"10\" y=\"42\">8</text><text alignment-baseline=\"middle\" font-size=\"14\" text-anchor=\"middle\" x=\"390\" y=\"42\">8</text></svg>"
            ],
            "text/plain": [
              "<IPython.core.display.HTML object>"
            ]
          },
          "metadata": {
            "tags": []
          }
        }
      ]
    }
  ]
}