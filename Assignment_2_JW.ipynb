{
 "cells": [
  {
   "cell_type": "markdown",
   "metadata": {},
   "source": [
    "# COMP5318 - Machine Learning and Data Mining: Assignment 2\n",
    "<div style=\"text-align: right\"> Group 86 </div>\n",
    "<div style=\"text-align: right\"> tlin4302 | 470322974 | Jenny Tsai-chen Lin </div>\n",
    "<div style=\"text-align: right\"> jsun4242 | 500409987 | Jiawei Sun </div>\n",
    "<div style=\"text-align: right\"> Code | ID | Name </div>"
   ]
  },
  {
   "cell_type": "markdown",
   "metadata": {},
   "source": [
    "## The notebook includes sections :\n",
    "\n",
    "    Section 1. Library and general functions \n",
    "    Section 2. Data descriptive summary and pre-processing\n",
    "    Section 3. Implement algorithms\n",
    "        3.1 AdaBoost Classifier\n",
    "        3.2 Support-Vector-Machine Classifier\n",
    "        3.3 Convolutional Neural Network Classifier\n",
    "    Section 4. Compare result between algorithms in train dataset \n",
    "    Section 5: Best perfroming algorithms in testing data  (we will submit this in seperate notebook as well)\n",
    "    Section 6. Hardware and software specifications\n",
    "\n",
    "In response to 4 main parts of report requirement: \n",
    "\n",
    "    1. Try 3 different Machine Learning methods and compare their performance. | Section 3 & Section 4\n",
    "    2. Choosing an appropriate model and its complexity | Section 3\n",
    "    3. Using pre-processing techniques on the datasets | Section 2\n",
    "    4. Computer infrastructure   | TBC\n",
    "    5. Ease of prototyping\n",
    "    6. Hardware and software specifications of the computer that you used for performance evaluation | Section 5"
   ]
  },
  {
   "cell_type": "markdown",
   "metadata": {},
   "source": [
    "## Section 0. Switches"
   ]
  },
  {
   "cell_type": "code",
   "execution_count": 31,
   "metadata": {},
   "outputs": [],
   "source": [
    "test_ABC = True\n",
    "ABC_load_model = True\n",
    "\n",
    "test_CNN_train = False\n",
    "test_CNN_predict = True\n",
    "\n",
    "test_SVC = True\n",
    "SVC_load_model = True"
   ]
  },
  {
   "cell_type": "markdown",
   "metadata": {},
   "source": [
    "## Section 1. Library and general functions "
   ]
  },
  {
   "cell_type": "code",
   "execution_count": 21,
   "metadata": {},
   "outputs": [
    {
     "name": "stdout",
     "output_type": "stream",
     "text": [
      "--- 0.0 seconds ---\n"
     ]
    }
   ],
   "source": [
    "#package loaded\n",
    "#pip install PySimpleGUI\n",
    "#pip install pyperclip\n",
    "#pip install chess\n",
    "#pip install python-chess\n",
    "\n",
    "#  Go to anaconda prompt to install package imblearn\n",
    "# anaconda: conda install -c glemaitre imbalanced-learn\n",
    "#pip install kmeans-smote\n",
    "\n",
    "from skimage import io, transform\n",
    "import matplotlib.pyplot as plt\n",
    "import numpy as np\n",
    "import pandas as pd\n",
    "\n",
    "import cv2\n",
    "\n",
    "import time \n",
    "\n",
    "start_time = time.time()\n",
    "#main()\n",
    "print('--- {} seconds ---'.format(time.time() - start_time))"
   ]
  },
  {
   "cell_type": "markdown",
   "metadata": {},
   "source": [
    "### global variables"
   ]
  },
  {
   "cell_type": "code",
   "execution_count": 33,
   "metadata": {},
   "outputs": [],
   "source": [
    "# choose one of below two line depend on you system ******\n",
    "\n",
    "#g_dataset_dir = \"./dataset/\"   \n",
    "g_dataset_dir = \"../dataset/\" \n",
    "\n",
    "\n",
    "#a_random_file = \"./dataset/train/1b1B1b2-2pK2q1-4p1rB-7k-8-8-3B4-3rb3.jpeg\"  \n",
    "a_random_file = \"../dataset/train/1b1B1b2-2pK2q1-4p1rB-7k-8-8-3B4-3rb3.jpeg\" \n",
    "\n",
    "saved_model_path = \"./saved_model/\"\n",
    "abc_model_file = saved_model_path + \"abc_dump.pkl\"\n",
    "svc_model_file = saved_model_path + \"svc_dump.pkl\"\n",
    "\n",
    "\n",
    "# define global variable \n",
    "\n",
    "g_train_dir = g_dataset_dir + \"/train/\"\n",
    "g_test_dir = g_dataset_dir + \"/test/\"\n",
    "\n",
    "g_image_size = 400\n",
    "\n",
    "g_grid_row = 8\n",
    "g_grid_col = 8\n",
    "\n",
    "g_grid_num = g_grid_row * g_grid_col\n",
    "g_grid_size = int(g_image_size / g_grid_row)\n",
    "\n",
    "\n",
    "#Processing 1 - scale down \n",
    "g_down_sampled_size = 200\n",
    "g_down_sampled_grid_size = int(g_grid_size / (g_image_size / g_down_sampled_size))\n",
    "\n",
    "# global instance of mapping of char vs chess pieces\n",
    "# reference: Forsyth–Edwards Notation, https://en.wikipedia.org/wiki/Forsyth%E2%80%93Edwards_Notation\n",
    "# \n",
    "# pawn = \"P\", knight = \"N\", bishop = \"B\", rook = \"R\", queen = \"Q\" and king = \"K\"\n",
    "# White pieces are designated using upper-case letters (\"PNBRQK\") while black pieces use lowercase (\"pnbrqk\")\n",
    "# we use 0 to note an empty grid.\n",
    "# 13 items in total.\n",
    "\n",
    "g_piece_mapping = {\n",
    "    \"P\" : \"pawn\",\n",
    "    \"N\" : \"knight\",\n",
    "    \"B\" : \"bishop\",\n",
    "    \"R\" : \"rook\",\n",
    "    \"Q\" : \"queen\",\n",
    "    \"K\" : \"king\",\n",
    "\n",
    "    \"p\" : \"pawn\",\n",
    "    \"n\" : \"knight\",\n",
    "    \"b\" : \"bishop\",\n",
    "    \"r\" : \"rook\",\n",
    "    \"q\" : \"queen\",\n",
    "    \"k\" : \"king\",\n",
    "\n",
    "    \"0\" : \"empty_grid\"\n",
    "}\n",
    "\n",
    "g_num_labels = len(g_piece_mapping)\n"
   ]
  },
  {
   "cell_type": "markdown",
   "metadata": {},
   "source": [
    "### Helper codes for label & board"
   ]
  },
  {
   "cell_type": "code",
   "execution_count": 14,
   "metadata": {},
   "outputs": [],
   "source": [
    "#DataHelper.py\n",
    "\n",
    "import os\n",
    "\n",
    "import cv2\n",
    "from skimage import io\n",
    "import numpy as np\n",
    "\n",
    "import glob\n",
    "import h5py\n",
    "\n",
    "# get clean name by a path, where in our case this gets the FEN conviniently\n",
    "def GetCleanNameByPath(file_name):\n",
    "    return os.path.splitext(os.path.basename(file_name))[0]\n",
    "\n",
    "# get full paths to the files in a directory.\n",
    "def GetFileNamesInDir(path_name, extension=\"*\", num_return = 0):\n",
    "    if num_return == 0:\n",
    "        return glob.glob(path_name + \"/*.\" + extension)\n",
    "    else:\n",
    "        return glob.glob(path_name + \"/*.\" + extension)[:num_return]\n",
    "\n",
    "# get name list\n",
    "def GetCleanNamesInDir(path_name, extension = \"*\", num_return = 0):\n",
    "    names = GetFileNamesInDir(path_name, extension)\n",
    "    offset = len(extension) + 1\n",
    "    clean_names = [os.path.basename(x)[:-offset] for x in names]\n",
    "    if num_return == 0:\n",
    "        return clean_names\n",
    "    else:\n",
    "        return clean_names[:num_return]\n",
    "\n",
    "# read dataset\n",
    "def ReadImages(file_names, path = \"\", format = cv2.IMREAD_COLOR):\n",
    "    if path == \"\":\n",
    "        return [cv2.imread(f, format) for f in file_names]\n",
    "    else:\n",
    "        return [cv2.imread(path + \"/\" + f, format) for f in file_names]\n",
    "\n",
    "# read image by name\n",
    "def ReadImage(file_name, gray = False):\n",
    "    return io.imread(file_name, as_gray = gray)\n",
    "\n",
    "\n",
    "# h5py functions\n",
    "    \n",
    "# read h5py file\n",
    "# we assume the labels and \n",
    "def ReadH5pyFile(file_name, data_name):\n",
    "    h5_buffer = h5py.File(file_name)\n",
    "    return h5_buffer[data_name].copy()\n",
    "\n",
    "# write h5py file\n",
    "def WriteH5pyFile(file_name, mat, data_name = \"dataset\"):\n",
    "    with h5py.File(file_name, 'w') as f:\n",
    "        f.create_dataset(data_name, data = mat)\n"
   ]
  },
  {
   "cell_type": "code",
   "execution_count": 15,
   "metadata": {},
   "outputs": [],
   "source": [
    "#BoardHelper.py\n",
    "\n",
    "import re\n",
    "import string\n",
    "from collections import OrderedDict \n",
    "\n",
    "import numpy as np\n",
    "import skimage.util\n",
    "from skimage.util.shape import view_as_blocks\n",
    "\n",
    "from ChessGlobalDefs import *\n",
    "\n",
    "#FEN TO LABELS OF SQUARES\n",
    "def FENtoL(fen): \n",
    "    rules = {\n",
    "        r\"-\": r\"\",\n",
    "        r\"1\": r\"0\",\n",
    "        r\"2\": r\"00\",\n",
    "        r\"3\": r\"000\",\n",
    "        r\"4\": r\"0000\",\n",
    "        r\"5\": r\"00000\",\n",
    "        r\"6\": r\"000000\",\n",
    "        r\"7\": r\"0000000\",\n",
    "        r\"8\": r\"00000000\",\n",
    "    }\n",
    "\n",
    "    for key in rules.keys():\n",
    "        fen = re.sub(key, rules[key], fen)\n",
    "\n",
    "    return list(fen)\n",
    "\n",
    "\n",
    "# Label array to char list:\n",
    "def LabelArrayToL(arr):\n",
    "    rules = {\n",
    "        0 : \"P\",\n",
    "        1 : \"N\",\n",
    "        2 : \"B\",\n",
    "        3 : \"R\",\n",
    "        4 : \"Q\",\n",
    "        5 : \"K\",\n",
    "\n",
    "        6 : \"p\",\n",
    "        7 : \"n\",\n",
    "        8 : \"b\",\n",
    "        9 : \"r\",\n",
    "       10 : \"q\",\n",
    "       11 : \"k\",\n",
    "\n",
    "       12 : \"0\"\n",
    "    }\n",
    "\n",
    "    flattened = arr.flatten(order = \"C\")\n",
    "\n",
    "    L = []\n",
    "\n",
    "    for x in flattened:\n",
    "        L.append(rules[x])\n",
    "\n",
    "    return L\n",
    "\n",
    "# char list to FEN\n",
    "def LtoFEN(L):\n",
    "\n",
    "    FEN = \"\"\n",
    "    \n",
    "    for y in range(8):\n",
    "        counter = 0\n",
    "        for x in range(8):\n",
    "            idx = x + y * 8\n",
    "            char = L[idx]\n",
    "\n",
    "            if char == \"0\":\n",
    "                counter += 1\n",
    "                if x == 7:\n",
    "                    FEN += str(counter)\n",
    "            else:\n",
    "                if counter:\n",
    "                    FEN += str(counter)\n",
    "                    counter = 0\n",
    "\n",
    "                FEN += char\n",
    "        if y != 7:\n",
    "            FEN += \"-\"\n",
    "        \n",
    "            \n",
    "    return FEN\n",
    "\n",
    "\n",
    "\n",
    "# FEN to one-hot encoding, in our case, it returns an 64 by 13 array, with each row as a one-hot to a grid.\n",
    "def FENtoOneHot(fen):\n",
    "\n",
    "    # this rule is in the same format as g_piece_mapping\n",
    "    #rules = {\n",
    "    #    \"P\" : np.array([1, 0, 0, 0, 0, 0, 0, 0, 0, 0, 0, 0, 0]),\n",
    "    #    \"N\" : np.array([0, 1, 0, 0, 0, 0, 0, 0, 0, 0, 0, 0, 0]),\n",
    "    #    \"B\" : np.array([0, 0, 1, 0, 0, 0, 0, 0, 0, 0, 0, 0, 0]),\n",
    "    #    \"R\" : np.array([0, 0, 0, 1, 0, 0, 0, 0, 0, 0, 0, 0, 0]),\n",
    "    #    \"Q\" : np.array([0, 0, 0, 0, 1, 0, 0, 0, 0, 0, 0, 0, 0]),\n",
    "    #    \"K\" : np.array([0, 0, 0, 0, 0, 1, 0, 0, 0, 0, 0, 0, 0]),\n",
    "    #                    \n",
    "    #    \"p\" : np.array([0, 0, 0, 0, 0, 0, 1, 0, 0, 0, 0, 0, 0]),\n",
    "    #    \"n\" : np.array([0, 0, 0, 0, 0, 0, 0, 1, 0, 0, 0, 0, 0]),\n",
    "    #    \"b\" : np.array([0, 0, 0, 0, 0, 0, 0, 0, 1, 0, 0, 0, 0]),\n",
    "    #    \"r\" : np.array([0, 0, 0, 0, 0, 0, 0, 0, 0, 1, 0, 0, 0]),\n",
    "    #    \"q\" : np.array([0, 0, 0, 0, 0, 0, 0, 0, 0, 0, 1, 0, 0]),\n",
    "    #    \"k\" : np.array([0, 0, 0, 0, 0, 0, 0, 0, 0, 0, 0, 1, 0]),\n",
    "    #                    \n",
    "    #    \"0\" : np.array([0, 0, 0, 0, 0, 0, 0, 0, 0, 0, 0, 0, 1])\n",
    "    #}\n",
    "    rules = {\n",
    "        \"P\" : 0,\n",
    "        \"N\" : 1,\n",
    "        \"B\" : 2,\n",
    "        \"R\" : 3,\n",
    "        \"Q\" : 4,\n",
    "        \"K\" : 5,\n",
    "\n",
    "        \"p\" : 6,\n",
    "        \"n\" : 7,\n",
    "        \"b\" : 8,\n",
    "        \"r\" : 9,\n",
    "        \"q\" : 10,\n",
    "        \"k\" : 11,\n",
    "\n",
    "        \"0\" : 12\n",
    "    }\n",
    "\n",
    "    L = FENtoL(fen)\n",
    "    one_hot_array = np.zeros((g_grid_num, g_num_labels), dtype = np.int32) # 64 by 13\n",
    "    for i, c in enumerate(L):\n",
    "        one_hot_array[i, rules[c]] = 1\n",
    "\n",
    "    return one_hot_array\n",
    "\n",
    "# get 8*8 char matrix\n",
    "def LtoCharMat(l):\n",
    "    if type(l) == list:\n",
    "        return np.array(l).reshape((8,8))\n",
    "    if type(l) == str:\n",
    "        return np.array([l]).reshape((8,8))\n",
    "\n",
    "def GetBoardCell(board_image, row = 0, col = 0, size = 50):\n",
    "    return np.array(board_image)[row*size:(row+1)*size,col*size:(col+1)*size]\n",
    "\n",
    "# get grids of image\n",
    "def ImageToGrids(image, grid_size_x, grid_size_y):\n",
    "    return skimage.util.shape.view_as_blocks(image, block_shape = (grid_size_y, grid_size_x, 3)).squeeze(axis = 2)\n"
   ]
  },
  {
   "cell_type": "markdown",
   "metadata": {},
   "source": [
    "#### Confusion matrix - heatmap"
   ]
  },
  {
   "cell_type": "code",
   "execution_count": 16,
   "metadata": {},
   "outputs": [],
   "source": [
    "from sklearn.metrics import confusion_matrix\n",
    "\n",
    "\n",
    "import pandas as pd\n",
    "\n",
    "# function - to create confusion matrix\n",
    "def conf_mat(true,pred):\n",
    "    A = pd.Series(true, name='Actual')\n",
    "    P = pd.Series(pred, name='Predict')\n",
    "    #conf_matt  = pd.crosstab(A, P, margins=True)\n",
    "    conf_matt  = pd.crosstab(A, P)\n",
    "    return conf_matt\n",
    "\n",
    "\n",
    "#function - to create heatmap for confusion matrix\n",
    "import matplotlib.pyplot as plt\n",
    "\n",
    "def plot_confusion_matrix(conf_matt, cmap=plt.cm.gray_r): \n",
    "    conf_norm = conf_matt / conf_matt.sum(axis=1)  \n",
    "    fig = plt.figure()\n",
    "    ax = fig.add_subplot(111)\n",
    "    cax = ax.matshow(conf_norm, cmap=cmap)\n",
    "    fig.colorbar(cax)\n",
    "    tick_marks = np.arange(len(conf_norm.columns))\n",
    "    plt.xticks(tick_marks, conf_norm.columns)\n",
    "    plt.yticks(tick_marks, conf_norm.index)\n",
    "    plt.ylabel(conf_norm.index.name)\n",
    "    plt.xlabel(conf_norm.columns.name)"
   ]
  },
  {
   "cell_type": "markdown",
   "metadata": {},
   "source": [
    "## Section 2. Data descriptive summary and pre-processing"
   ]
  },
  {
   "cell_type": "markdown",
   "metadata": {},
   "source": [
    "### Pre-processing - generic"
   ]
  },
  {
   "cell_type": "code",
   "execution_count": 17,
   "metadata": {},
   "outputs": [],
   "source": [
    "# split into 64 small square from 1 board\n",
    "# image resized to 400x 400 to 200x 200. 64 square at 25x 25 each\n",
    "\n",
    "def PreprocessImage(image):\n",
    "    image = transform.resize(image, (g_down_sampled_size, g_down_sampled_size), mode='constant')\n",
    "        \n",
    "    # 1st and 2nd dim is 8\n",
    "    grids = ImageToGrids(image, g_down_sampled_grid_size, g_down_sampled_grid_size)\n",
    "\n",
    "    # debug\n",
    "    #plt.imshow(grids[0][5])\n",
    "    #plt.show()\n",
    "\n",
    "    return grids.reshape(g_grid_row * g_grid_col, g_down_sampled_grid_size, g_down_sampled_grid_size, 3)\n",
    "\n",
    "\n",
    "# split into 64 small square from 1 board\n",
    "def func_generator(train_file_names):\n",
    "    for image_file_name in train_file_names:\n",
    "        img = ReadImage(image_file_name)\n",
    "        x = PreprocessImage(img)\n",
    "        y = np.array(FENtoOneHot(GetCleanNameByPath(image_file_name)))\n",
    "    return x, y"
   ]
  },
  {
   "cell_type": "markdown",
   "metadata": {},
   "source": [
    "### Pre-processing  - w SIFT to dataframe"
   ]
  },
  {
   "cell_type": "code",
   "execution_count": 18,
   "metadata": {},
   "outputs": [],
   "source": [
    "#depend on you cv2 package. select one of below two lines  ******\n",
    "# g_sift_extractor = sift = cv2.SIFT_create(edgeThreshold = 0)\n",
    "g_sift_extractor = sift = cv2.SIFT_create(edgeThreshold = 0)\n",
    "\n",
    "\n",
    "# Processing image with sift\n",
    "import cv2\n",
    "\n",
    "def ExtractSIFTForGrid(board_image, row, col, center_x = 25, center_y = 25, radius = 45):\n",
    "    kps = [cv2.KeyPoint(x = center_x + 50 * col, y = center_y + 50 * row, _size = 45)]\n",
    "    keypoints, descriptors = g_sift_extractor.compute(image = board_image, keypoints = kps)\n",
    "    return keypoints[0], descriptors[0, :]\n",
    "\n",
    "\n",
    "def PreprocessImage_sift(image):\n",
    "    image = cv2.Canny(image,100,200)\n",
    "    image = transform.resize(image, (g_down_sampled_size, g_down_sampled_size), mode='constant')\n",
    "    # 1st and 2nd dim is 8\n",
    "    image = image[..., np.newaxis]\n",
    "    grids = ImageToGrids(image, g_down_sampled_grid_size, g_down_sampled_grid_size, channels = 1)\n",
    "    return grids.reshape(g_grid_row * g_grid_col, g_down_sampled_grid_size, g_down_sampled_grid_size)\n",
    "\n",
    "# atomic func:\n",
    "def func_sift(file_name):\n",
    "    img = ReadImage(image_file_name)\n",
    "    x = PreprocessImage_sift(img)\n",
    "    y = np.array(FENtoL(GetCleanNameByPath(image_file_name)))\n",
    "    return x, y\n",
    "    \n",
    "    \n",
    "# split into 64 small square from 1 \n",
    "def func_generator_sift(train_file_names):\n",
    "    xs = []\n",
    "    ys = []\n",
    "    for image_file_name in train_file_names:\n",
    "        x, y = func_sift(image_file_name)\n",
    "        xs.append(x)\n",
    "        ys.append(y)\n",
    "        \n",
    "    return xs, ys\n"
   ]
  },
  {
   "cell_type": "markdown",
   "metadata": {},
   "source": [
    "### Example of SIFT"
   ]
  },
  {
   "cell_type": "code",
   "execution_count": 19,
   "metadata": {},
   "outputs": [
    {
     "name": "stdout",
     "output_type": "stream",
     "text": [
      "file name: ../dataset/train/1b1B1b2-2pK2q1-4p1rB-7k-8-8-3B4-3rb3.jpeg\n"
     ]
    },
    {
     "data": {
      "image/png": "[encoded data removed]",
      "text/plain": [
       "<Figure size 864x432 with 2 Axes>"
      ]
     },
     "metadata": {
      "needs_background": "light"
     },
     "output_type": "display_data"
    },
    {
     "name": "stdout",
     "output_type": "stream",
     "text": [
      "SIFT OUTPUT for Canny at squares\n"
     ]
    },
    {
     "data": {
      "image/png": "[encoded data removed]",
      "text/plain": [
       "<Figure size 1080x432 with 4 Axes>"
      ]
     },
     "metadata": {
      "needs_background": "light"
     },
     "output_type": "display_data"
    }
   ],
   "source": [
    "# Illustration of \n",
    "import cv2\n",
    "#print(\"Sift: decriptor size:\", cv2.SIFT_create().descriptorSize())\n",
    "img = ReadImage(a_random_file)\n",
    "\n",
    "img1 = cv2.Canny(img,100,200)\n",
    "\n",
    "kp, desc = ExtractSIFTForGrid(img1, 0, 1)\n",
    "kp2, desc2 = ExtractSIFTForGrid(img1, 0, 3)\n",
    "kp3, desc3 = ExtractSIFTForGrid(img1, 0, 5)\n",
    "kp4, desc4 = ExtractSIFTForGrid(img1, 1, 3)\n",
    "img_kp = cv2.drawKeypoints(img, [kp, kp2,kp3,kp4], img, flags=cv2.DRAW_MATCHES_FLAGS_DRAW_RICH_KEYPOINTS)\n",
    "img_kp1 = cv2.drawKeypoints(img1, [kp, kp2,kp3,kp4], img1, flags=cv2.DRAW_MATCHES_FLAGS_DRAW_RICH_KEYPOINTS)\n",
    "\n",
    "print('file name:',a_random_file)\n",
    "\n",
    "\n",
    "f = plt.figure(figsize=(12,6))\n",
    "plt.subplot(1, 2, 1)\n",
    "plt.imshow(img_kp, aspect='auto')\n",
    "plt.title('original image with keypoint')\n",
    "\n",
    "plt.subplot(1, 2, 2)\n",
    "plt.imshow(img_kp1, aspect='auto')\n",
    "plt.title('Canny with keypoint')\n",
    "plt.show()\n",
    "\n",
    "print('SIFT OUTPUT for Canny at squares')\n",
    "plt.figure(figsize=(15,6))\n",
    "#plt.tight_layout()\n",
    "plt.subplot(2, 2, 1)\n",
    "plt.title('square 0,1(b)')\n",
    "plt.bar(x = range(128), height = desc)\n",
    "plt.xticks(x = range(128))\n",
    "\n",
    "plt.subplot(2,2, 2)\n",
    "plt.title('square 0,3(B)')\n",
    "plt.bar(x = range(128), height = desc2)\n",
    "plt.xticks(x = range(128))\n",
    "\n",
    "plt.subplot(2,2,3)\n",
    "plt.title('square 0,5(b)')\n",
    "plt.bar(x = range(128), height = desc3)\n",
    "plt.xticks(x = range(128))\n",
    "\n",
    "\n",
    "plt.subplot(2,2,4)\n",
    "plt.title('square 1,3(K)')\n",
    "plt.bar(x = range(128), height = desc4)\n",
    "plt.xticks(x = range(128))\n",
    "plt.show()\n",
    "\n"
   ]
  },
  {
   "cell_type": "markdown",
   "metadata": {},
   "source": [
    "###  Read image -  original functon"
   ]
  },
  {
   "cell_type": "markdown",
   "metadata": {},
   "source": [
    "start_time = time.time()\n",
    "num_train = 10\n",
    "train_file_names = GetFileNamesInDir(g_train_dir, extension = \"jpeg\",num_return = num_train)\n",
    "\n",
    "\n",
    "X,Y = func_generator_sift(train_file_names)\n",
    "\n",
    "print('--- {} seconds ---'.format(time.time() - start_time))"
   ]
  },
  {
   "cell_type": "markdown",
   "metadata": {},
   "source": [
    "###  Read Image - parallel version"
   ]
  },
  {
   "cell_type": "code",
   "execution_count": 20,
   "metadata": {},
   "outputs": [],
   "source": [
    "from joblib import Parallel, delayed\n",
    "\n",
    "def Preprocess_parallel(file_names, job_count = 6):\n",
    "    result = Parallel(n_jobs=job_count)(delayed(func_sift)(file_name) for file_name in file_names)\n",
    "    return zip(*result)"
   ]
  },
  {
   "cell_type": "markdown",
   "metadata": {},
   "source": [
    "start_time = time.time()\n",
    "num_train = 10\n",
    "train_file_names = GetFileNamesInDir(g_train_dir, extension = \"jpeg\",num_return = num_train)\n",
    "df_sift= func_generator_sift(train_file_names)\n",
    "\n",
    "xs, ys = Preprocess_parallel(train_file_names)\n",
    "print('--- {} seconds ---'.format(time.time() - start_time))"
   ]
  },
  {
   "cell_type": "markdown",
   "metadata": {},
   "source": [
    "### Read file names"
   ]
  },
  {
   "cell_type": "code",
   "execution_count": 12,
   "metadata": {
    "scrolled": true
   },
   "outputs": [],
   "source": [
    "# Using FEN to identify grid with chess\n",
    "\n",
    "num_train = 80000\n",
    "num_test= 20000\n",
    "\n",
    "# Reading train labels 80k\n",
    "train_file_names = GetFileNamesInDir(g_train_dir, extension = \"jpeg\",num_return = num_train)\n",
    "\n",
    "\n",
    "# Reading test label 20k\n",
    "test_file_names = GetFileNamesInDir(g_test_dir, extension = \"jpeg\",num_return = num_test)\n",
    "\n",
    "\n",
    "# Reading subset labels(image with more than 10 chess as high quality data)\n",
    "ys = []\n",
    "for image_file_name in train_file_names:\n",
    "    ys.extend(FENtoL(GetCleanNameByPath(image_file_name)))\n",
    "\n",
    "df =pd.DataFrame(np.array(ys).reshape(num_train,64))\n",
    "df['w'] = (df != '0').astype(int).sum(axis=1)\n",
    "df['FEN']=train_file_names\n",
    "df_selected = df[df['w']>=10]\n",
    "df_selected = df_selected['FEN'].values.tolist()\n",
    "train_file_names_highqualty = df_selected\n",
    "num_subset=len(train_file_names_highqualty)\n"
   ]
  },
  {
   "cell_type": "markdown",
   "metadata": {},
   "source": [
    "### import data"
   ]
  },
  {
   "cell_type": "code",
   "execution_count": 13,
   "metadata": {},
   "outputs": [
    {
     "name": "stdout",
     "output_type": "stream",
     "text": [
      "xs_train, ys_train generated: 5120000\n",
      "--- 43.40502715110779 seconds ---\n"
     ]
    }
   ],
   "source": [
    "# import data - train 80K\n",
    "start_time = time.time()\n",
    "xs_train, ys_train = Preprocess_parallel(train_file_names)\n",
    "\n",
    "# reshape train\n",
    "start_time = time.time()\n",
    "xs_train= np.array(xs_train).reshape(num_train*64,25*25)\n",
    "ys_train = np.array(ys_train).reshape(64*len(np.array(ys_train)))\n",
    "print('xs_train, ys_train generated:', len(xs_train))\n",
    "print('--- {} seconds ---'.format(time.time() - start_time))"
   ]
  },
  {
   "cell_type": "code",
   "execution_count": null,
   "metadata": {},
   "outputs": [],
   "source": [
    "start_time = time.time()\n",
    "# import data - test 20K\n",
    "xs_test, ys_test = Preprocess_parallel(test_file_names)\n",
    "print('xs_test, ys_test generated:',len(xs_test))\n",
    "\n",
    "\n",
    "# reshape test\n",
    "start_time = time.time()\n",
    "xs_test= np.array(xs_test).reshape(num_test*64,25*25)\n",
    "ys_test = np.array(ys_test).reshape(64*len(np.array(ys_test)))\n",
    "print('--- {} seconds ---'.format(time.time() - start_time))\n"
   ]
  },
  {
   "cell_type": "code",
   "execution_count": null,
   "metadata": {},
   "outputs": [],
   "source": [
    "start_time = time.time()\n",
    "# import data - subset\n",
    "xs, ys = Preprocess_parallel(train_file_names_highqualty)\n",
    "print(\"Subset train data (>10 chesses) to\", len(train_file_names_highqualty),\"from total\",len(train_file_names))\n",
    "print('xs, ys generated:',len(xs))\n",
    "\n",
    "\n",
    "# reshape subset\n",
    "start_time = time.time()\n",
    "xs= np.array(xs).reshape(num_subset*64,25*25)\n",
    "ys= np.array(ys).reshape(64*len(np.array(ys)))\n",
    "print('--- {} seconds ---'.format(time.time() - start_time))\n"
   ]
  },
  {
   "cell_type": "markdown",
   "metadata": {},
   "source": [
    "### Split train and validation dataset"
   ]
  },
  {
   "cell_type": "code",
   "execution_count": null,
   "metadata": {},
   "outputs": [],
   "source": [
    "start_time = time.time()\n",
    "\n",
    "from sklearn.model_selection import train_test_split\n",
    "X_train, X_val, Y_train, Y_val = train_test_split(\n",
    "    xs, ys, test_size=0.33, random_state=0)\n",
    "print(X_train.shape, X_val.shape, Y_train.shape, Y_val.shape)\n",
    "print('--- {} seconds ---'.format(time.time() - start_time))"
   ]
  },
  {
   "cell_type": "markdown",
   "metadata": {},
   "source": [
    "### Balancing classes (undersampling)"
   ]
  },
  {
   "cell_type": "code",
   "execution_count": null,
   "metadata": {},
   "outputs": [],
   "source": [
    "\n",
    "\n",
    "# ref from https://machinelearningmastery.com/smote-oversampling-for-imbalanced-classification/\n",
    "#https://imbalanced-learn.readthedocs.io/en/stable/auto_examples/under-sampling/plot_comparison_under_sampling.html#sphx-glr-auto-examples-under-sampling-plot-comparison-under-sampling-py\n",
    "\n",
    "import numpy as np\n",
    "from collections import Counter\n",
    "from sklearn.datasets import make_classification\n",
    "from imblearn.under_sampling import RandomUnderSampler\n",
    "# if experience ImportError: cannot import name '_UnstableArchMixin' from 'sklearn.base' refer below for trouble shoot.\n",
    "#https://stackoverflow.com/questions/55447538/importerror-cannot-import-name-unstablearchmixin-from-sklearn-base/55448307\n",
    "\n",
    "\n",
    "rus = RandomUnderSampler(sampling_strategy='majority', random_state=42)\n",
    "X_resampled, Y_resampled = rus.fit_resample(X_train, Y_train)\n",
    "\n",
    "[print('Class {} has {} instances'.format(label, count))\n",
    "for label, count in zip(*np.unique(Y_train, return_counts=True))]\n",
    "\n",
    "print()\n",
    "[print('Class {} has {} instances after undersampling'.format(label, count))\n",
    " for label, count in zip(*np.unique(Y_resampled, return_counts=True))]"
   ]
  },
  {
   "cell_type": "markdown",
   "metadata": {},
   "source": [
    "## Section 3. Implement algorithms"
   ]
  },
  {
   "cell_type": "markdown",
   "metadata": {},
   "source": [
    "### Section 3.1 AdaBoostClassifier (ABC)"
   ]
  },
  {
   "cell_type": "markdown",
   "metadata": {},
   "source": [
    "#### base classifier- small sample"
   ]
  },
  {
   "cell_type": "code",
   "execution_count": null,
   "metadata": {},
   "outputs": [],
   "source": [
    "# base classifier - Tree classifier\n",
    "from sklearn.tree import DecisionTreeClassifier\n",
    "\n",
    "start_time = time.time()\n",
    "#Apply pre-pruning by limiting the depth of the tree - max_depth=2\n",
    "tree = DecisionTreeClassifier(criterion='entropy', max_depth=2, random_state=42)\n",
    "tree.fit(X_train[:1000], Y_train[:1000])\n",
    "#Evaluate its performance on the training and test set\n",
    "print(\"Accuracy on training set: {:.3f}\".format(tree.score(X_train, Y_train)))\n",
    "print(\"Accuracy on validation set: {:.3f}\".format(tree.score(X_val, Y_val)))\n",
    "\n",
    "print('--- {} seconds ---'.format(time.time() - start_time))"
   ]
  },
  {
   "cell_type": "code",
   "execution_count": null,
   "metadata": {},
   "outputs": [],
   "source": [
    "# base classifier - Tree classifier (w/ balanced data)\n",
    "from sklearn.tree import DecisionTreeClassifier\n",
    "\n",
    "start_time = time.time()\n",
    "#Apply pre-pruning by limiting the depth of the tree - max_depth=2\n",
    "tree = DecisionTreeClassifier(criterion='entropy', max_depth=2, random_state=42)\n",
    "tree.fit(X_resampled[:1000], Y_resampled[:1000])\n",
    "#Evaluate its performance on the training and test set\n",
    "print(\"Accuracy on training set: {:.3f}\".format(tree.score(X_train, Y_train)))\n",
    "print(\"Accuracy on validation set: {:.3f}\".format(tree.score(X_val, Y_val)))\n",
    "\n",
    "print('--- {} seconds ---'.format(time.time() - start_time))"
   ]
  },
  {
   "cell_type": "markdown",
   "metadata": {},
   "source": [
    "#### AdaBoostClassifier - small sample"
   ]
  },
  {
   "cell_type": "code",
   "execution_count": null,
   "metadata": {},
   "outputs": [],
   "source": [
    "# ABC classifier\n",
    "\n",
    "from sklearn.ensemble import AdaBoostClassifier\n",
    "from sklearn.metrics import accuracy_score\n",
    "from sklearn.metrics import classification_report\n",
    "start_time = time.time()\n",
    "\n",
    "ada = AdaBoostClassifier(n_estimators=200, learning_rate=0.5, random_state=42)\n",
    "ada.fit(X_train[:1000], Y_train[:1000])\n",
    "y_pred_ada = ada.predict(X_val)\n",
    "\n",
    "\n",
    "#Evaluate its performance on the training and test set\n",
    "print(\"AdaBoost- accuracy on validation set:\", accuracy_score(Y_val, y_pred_ada))\n",
    "\n",
    "print('--- {} seconds ---'.format(time.time() - start_time))"
   ]
  },
  {
   "cell_type": "code",
   "execution_count": null,
   "metadata": {},
   "outputs": [],
   "source": [
    "y_pred_ada"
   ]
  },
  {
   "cell_type": "markdown",
   "metadata": {},
   "source": [
    "####  Hpyer parameter tunning"
   ]
  },
  {
   "cell_type": "code",
   "execution_count": null,
   "metadata": {},
   "outputs": [],
   "source": [
    "###https://machinelearningmastery.com/adaboost-ensemble-in-python/\n",
    "\n",
    "from sklearn.ensemble import AdaBoostClassifier\n",
    "from sklearn.model_selection import GridSearchCV\n",
    "\n",
    "param_grid = [{'n_estimators': np.arange(10,50,5),\n",
    "              'learning_rate': [0.01, 0.05, 0.1, 1]\n",
    "             }]\n",
    "\n",
    "start_time = time.time()\n",
    "abc = GridSearchCV(AdaBoostClassifier(random_state=42), param_grid)\n",
    "abc.fit(X_train[:1000], Y_train[:1000])  # temp use 1000 sample- block run forever\n",
    "\n",
    "print('--- {} seconds ---'.format(time.time() - start_time))"
   ]
  },
  {
   "cell_type": "markdown",
   "metadata": {},
   "source": [
    "#### GridSearchCV Result"
   ]
  },
  {
   "cell_type": "code",
   "execution_count": null,
   "metadata": {},
   "outputs": [],
   "source": [
    "# Print grid search results\n",
    "from sklearn.metrics import classification_report\n",
    "\n",
    "means = abc.cv_results_['mean_test_score']\n",
    "stds = abc.cv_results_['std_test_score']\n",
    "params = abc.cv_results_['params']\n",
    "\n",
    "print('Grid search mean and stdev:\\n')\n",
    "\n",
    "for mean, std, p in zip(means, stds, params):\n",
    "    print(\"%0.3f (+/-%0.03f) for %r\"% (mean, std * 2, p))\n",
    "\n",
    "# Print best params\n",
    "print('\\nBest parameters:', abc.best_params_)\n",
    "print(\"Detailed classification report:\")\n",
    "print()\n",
    "print(classification_report(Y_val, abc.predict(X_val)))\n",
    "print()"
   ]
  },
  {
   "cell_type": "markdown",
   "metadata": {},
   "source": [
    "### 10 fold - Training datat"
   ]
  },
  {
   "cell_type": "markdown",
   "metadata": {},
   "source": [
    "Cv reference\n",
    "https://scikit-learn.org/stable/modules/cross_validation.html\n",
    "\n",
    "options for 10 fold\n",
    "    1. https://scikit-learn.org/stable/modules/generated/sklearn.model_selection.ShuffleSplit.html\n",
    "    2. https://scikit-learn.org/stable/modules/generated/sklearn.model_selection.StratifiedKFold.html (Preferred)\n",
    "    \" StratifiedKFold is a variation of k-fold which returns stratified folds: each set contains approximately the same percentage of samples of each target class as the complete set.\" \n",
    "    "
   ]
  },
  {
   "cell_type": "code",
   "execution_count": null,
   "metadata": {},
   "outputs": [],
   "source": [
    "#ref https://www.kaggle.com/sudhirnl7/logistic-regression-with-stratifiedkfold\n",
    "\n",
    "from sklearn.model_selection import StratifiedKFold\n",
    "\n",
    "\n",
    "i = 1\n",
    "scores=[]\n",
    "y_pred=[]\n",
    "y_true =[]\n",
    "kf = StratifiedKFold(n_splits=10,shuffle=False)\n",
    "for train_index, test_index in skf.split(xs_train, ys_train):\n",
    "    print('{} of KFold {}'.format(i,kf.n_splits))\n",
    "  \n",
    "    X_train, X_test = xs_train[train_index], xs_train[test_index]\n",
    "    Y_train, Y_test = ys_train[train_index], ys_train[test_index]\n",
    "    \n",
    "    #Best parameters: {'learning_rate': 0.01, 'n_estimators': 30} from GridSearchCV\n",
    "    ada_clf = AdaBoostClassifier(n_estimators=30, learning_rate=0.01, random_state=42)\n",
    "    ada_clf.fit(X_train[:1000], Y_train[:1000])\n",
    "    \n",
    "    pred = ada_clf.predict(X_test)\n",
    "    score = accuracy_score(Y_test, pred)\n",
    "    print('Accuracy score:',score)\n",
    "    i = i+1\n",
    "\n"
   ]
  },
  {
   "cell_type": "markdown",
   "metadata": {},
   "source": [
    "### Prediction at Testing"
   ]
  },
  {
   "cell_type": "code",
   "execution_count": null,
   "metadata": {},
   "outputs": [],
   "source": [
    "from sklearn.ensemble import AdaBoostClassifier\n",
    "\n",
    "start_time = time.time()\n",
    "\n",
    "#Best parameters: {'learning_rate': 0.01, 'n_estimators': 30} from GridSearchCV\n",
    "y_pred_test = ada_clf.predict(xs_test)\n",
    "print(\"AdaBoost ensemble - accuracy on test set:\")\n",
    "print(accuracy_score(ys_test, y_pred_test))\n",
    "\n",
    "print('--- {} seconds ---'.format(time.time() - start_time))"
   ]
  },
  {
   "cell_type": "markdown",
   "metadata": {},
   "source": [
    "### reflection \n",
    "    there in need to use large number of training data for model"
   ]
  },
  {
   "cell_type": "markdown",
   "metadata": {},
   "source": [
    "### Section 3.2 SVM Classifier (SVC)"
   ]
  },
  {
   "cell_type": "markdown",
   "metadata": {},
   "source": [
    "#### Base class for all classifiers"
   ]
  },
  {
   "cell_type": "code",
   "execution_count": 23,
   "metadata": {},
   "outputs": [],
   "source": [
    "import abc\n",
    "\n",
    "# interface of the classifiers\n",
    "class IClassifier:\n",
    "\n",
    "    # this method should accept a list of file names of the training data\n",
    "    @abc.abstractmethod\n",
    "    def Train(self, train_file_names):\n",
    "        raise NotImplementedError()\n",
    "\n",
    "    # this should accept a 400 * 400 * 3 numpy array as query data, and returns the fen notation of the board.\n",
    "    @abc.abstractmethod\n",
    "    def Predict(self, query_data):\n",
    "        raise NotImplementedError()"
   ]
  },
  {
   "cell_type": "markdown",
   "metadata": {},
   "source": [
    "#### Class definition for SVC"
   ]
  },
  {
   "cell_type": "code",
   "execution_count": 25,
   "metadata": {},
   "outputs": [],
   "source": [
    "from sklearn import svm\n",
    "import numpy as np\n",
    "\n",
    "# image io and plotting\n",
    "from skimage import io, transform\n",
    "import skimage.util\n",
    "from skimage.util.shape import view_as_blocks\n",
    "from matplotlib import pyplot as plt\n",
    "\n",
    "# parallel processing\n",
    "from joblib import Parallel, delayed\n",
    "# model save and load\n",
    "import pickle\n",
    "import os\n",
    "# profiling\n",
    "import time\n",
    "\n",
    "# joblib needs the kernel to be a top-level function, so we defined it here.\n",
    "def PreprocessKernel(name):\n",
    "    img = DataHelper.ReadImage(name, gray = True)\n",
    "    grids = SVCClassifier.SVCPreprocess(img)\n",
    "    labels = np.array(FENtoOneHot(GetCleanNameByPath(name))).argmax(axis=1)\n",
    "    return grids, labels\n",
    "\n",
    "# SVM Classifier\n",
    "class SVCClassifier(IClassifier):\n",
    "\n",
    "    def __init__(self):\n",
    "        self.__svc__ = svm.SVC(C=1.0, cache_size=200, class_weight=None, coef0=0.0,\n",
    "                          decision_function_shape='ovr', degree=3, gamma=0.001, kernel='rbf',\n",
    "                          max_iter=-1, probability=False, random_state=None, shrinking=True,\n",
    "                          tol=0.001, verbose=False)\n",
    "\n",
    "    # this method should accept a list of file names of the training data\n",
    "    def Train(self, train_file_names):\n",
    "        print(\"svc: reading image.\")\n",
    "        start_time = time.time()\n",
    "        xs, ys = SVCClassifier.PreprocessParallelWrapperFunc(train_file_names)\n",
    "        print(\"svc: finished reading image, {} sec.\".format(time.time() - start_time))\n",
    "        # train\n",
    "        print(\"svc: start training.\")\n",
    "        start_time = time.time()\n",
    "        self.__svc__.fit(xs, ys)\n",
    "        print(\"svc: finished. {} sec.\".format(time.time() - start_time))\n",
    "\n",
    "    # this should accept a 400 * 400 * 3 numpy array as query data, and returns the fen notation of the board.\n",
    "    def Predict(self, query_data):\n",
    "        grids = SVCClassifier.SVCPreprocess(query_data)\n",
    "        y_pred = self.__svc__.predict(grids)\n",
    "        \n",
    "        return LabelArrayToL(y_pred)\n",
    "\n",
    "\n",
    "    # parallel pre-process wrapper:\n",
    "    @staticmethod\n",
    "    def PreprocessParallelWrapperFunc(file_names, num_thread = 1):\n",
    "        result = Parallel(n_jobs = num_thread)(delayed(PreprocessKernel)(file_name) for file_name in file_names)\n",
    "        xs, ys = zip(*result)\n",
    "        xs = np.concatenate(xs, axis=0)\n",
    "        ys = np.concatenate(ys)\n",
    "        return xs, ys\n",
    "\n",
    "    @staticmethod\n",
    "    def SVCPreprocess(img):\n",
    "        img = transform.resize(img, (g_down_sampled_size, g_down_sampled_size), mode='constant')\n",
    "        grids = skimage.util.shape.view_as_blocks(img, block_shape = (g_down_sampled_grid_size, g_down_sampled_grid_size))\n",
    "        grids = grids.reshape((-1, grids.shape[3], grids.shape[3]))\n",
    "        grids = grids.reshape((grids.shape[0], grids.shape[1] * grids.shape[1]))\n",
    "        return grids\n",
    "\n",
    "    def SaveModel(self, save_file_name):\n",
    "        os.makedirs(os.path.dirname(save_file_name), exist_ok = True)\n",
    "        with open(save_file_name, 'wb') as file:\n",
    "            pickle.dump(self.__svc__, file)\n",
    "\n",
    "    def LoadModel(self, load_file_name):\n",
    "        with open(load_file_name, 'rb') as file:\n",
    "            self.__svc__ = pickle.load(file)"
   ]
  },
  {
   "cell_type": "markdown",
   "metadata": {},
   "source": [
    "#### Test code for SVC"
   ]
  },
  {
   "cell_type": "code",
   "execution_count": 36,
   "metadata": {},
   "outputs": [
    {
     "name": "stdout",
     "output_type": "stream",
     "text": [
      "svc: loading model from ./saved_model/svc_dump.pkl\n",
      "truth:   0b0B0b0000pK00q00000p0rB0000000k0000000000000000000B0000000rb000\n",
      "pred :   000B0000000K00000000p0rB0000000k0000000000000000000B0000000r0000\n"
     ]
    }
   ],
   "source": [
    "if test_SVC:\n",
    "    svc = SVCClassifier()\n",
    "    train_names = GetFileNamesInDir(g_train_dir)\n",
    "\n",
    "    if SVC_load_model:\n",
    "        print(\"svc: loading model from \" + svc_model_file)\n",
    "        svc.LoadModel(svc_model_file)\n",
    "    else:\n",
    "        svc.Train(train_names[:500])\n",
    "\n",
    "    y_truth = FENtoL(GetCleanNameByPath(a_random_file))\n",
    "    img = ReadImage(a_random_file, gray = True)\n",
    "    pred = svc.Predict(img)\n",
    "    print(\"truth:  \", ''.join(y_truth))\n",
    "    print(\"pred :  \", ''.join(pred))\n",
    "\n",
    "    # save model\n",
    "    if not SVC_load_model:\n",
    "        print(\"svc: saving model to \" + svc_model_file)\n",
    "        svc.SaveModel(svc_model_file)"
   ]
  },
  {
   "cell_type": "markdown",
   "metadata": {},
   "source": [
    "### Section 3.2 Convolutional Neural Network Classifier (CNN)"
   ]
  },
  {
   "cell_type": "markdown",
   "metadata": {},
   "source": [
    "#### Class definition for CNN"
   ]
  },
  {
   "cell_type": "code",
   "execution_count": 41,
   "metadata": {},
   "outputs": [],
   "source": [
    "import tensorflow as tf\n",
    "from tensorflow import keras\n",
    "from tensorflow.keras import layers\n",
    "\n",
    "import cv2\n",
    "from skimage import io, transform\n",
    "import numpy as np\n",
    "import os\n",
    "\n",
    "#import tensorflow as tf\n",
    "#from tensorflow import keras\n",
    "#from tf.keras.models import Sequential\n",
    "#from tf.keras.layers.core import Flatten, Dense, Dropout, Activation\n",
    "#from tf.keras.layers.convolutional import Convolution2D\n",
    "\n",
    "class CNNClassifier(IClassifier):\n",
    "\n",
    "    # the file name format does not accept batch as parameter. link:\n",
    "    # https://github.com/tensorflow/tensorflow/issues/38668\n",
    "    s_check_point_file_name = \"./CNN_training_checkpoint/cp_{epoch:02d}-{accuracy:.2f}.ckpt\"\n",
    "    s_check_point_path = os.path.dirname(s_check_point_file_name)\n",
    "    s_save_frequence = 10000 # save a checkpoint every s_save_frequence batches\n",
    "\n",
    "    def __init__(self):\n",
    "        \n",
    "        #tf.config.threading.set_inter_op_parallelism_threads(3)\n",
    "        #tf.config.threading.set_intra_op_parallelism_threads(3)\n",
    "\n",
    "        # define our model\n",
    "        self.__model__ = keras.Sequential(\n",
    "            [\n",
    "                layers.Convolution2D(32, (3, 3), input_shape = (g_down_sampled_grid_size, g_down_sampled_grid_size, 3)),\n",
    "                layers.Activation('relu'),\n",
    "                layers.Dropout(0.1),\n",
    "                layers.Convolution2D(32, (3, 3)),\n",
    "                layers.Activation('relu'),\n",
    "\n",
    "                layers.Convolution2D(32, (3, 3)),\n",
    "                layers.Activation('relu'),\n",
    "\n",
    "                layers.Flatten(),\n",
    "                \n",
    "                layers.Dense(128),\n",
    "                layers.Activation('relu'),\n",
    "                layers.Dropout(0.3),\n",
    "\n",
    "                layers.Dense(13),\n",
    "                layers.Activation(\"softmax\")\n",
    "            ]\n",
    "        )\n",
    "\n",
    "        self.__model__.compile(loss = \"categorical_crossentropy\", optimizer = 'adam', metrics = [\"accuracy\"])\n",
    "        self.__model__.summary()\n",
    "\n",
    "        self.__save_check_point_callback__ = tf.keras.callbacks.ModelCheckpoint(\n",
    "            filepath = CNNClassifier.s_check_point_file_name,\n",
    "            monitor='val_accuracy',\n",
    "            save_weights_only = True,\n",
    "            save_freq = CNNClassifier.s_save_frequence,\n",
    "            verbose = 1\n",
    "            )\n",
    "\n",
    "\n",
    "     # generator\n",
    "    @staticmethod\n",
    "    def func_generator(train_file_names):\n",
    "        for image_file_name in train_file_names:\n",
    "            img = ReadImage(image_file_name)\n",
    "            x = CNNClassifier.PreprocessImage(img)\n",
    "            y = np.array(FENtoOneHot(GetCleanNameByPath(image_file_name)))\n",
    "            yield x, y\n",
    "\n",
    "    # this method should accept N * 64 * m * n numpy array as train data, and N lists of 64 chars as label.\n",
    "    def Train(self, train_data_names):\n",
    "        train_size = len(train_data_names)\n",
    "\n",
    "        # try load last checkpoint\n",
    "        if not self.LoadMostRecentModel():\n",
    "            os.makedirs(CNNClassifier.s_check_point_path, exist_ok = True)\n",
    "\n",
    "        # train\n",
    "        self.__model__.fit(CNNClassifier.func_generator(train_data_names),\n",
    "                           use_multiprocessing = False,\n",
    "                           #batch_size = 1000,\n",
    "                           steps_per_epoch = train_size / 10,\n",
    "                           epochs = 5,\n",
    "                           callbacks = [self.__save_check_point_callback__],\n",
    "                           verbose = 1)\n",
    "\n",
    "\n",
    "    # this should accept a 64 * m * n numpy array as query data, and returns the fen notation of the board.\n",
    "    def Predict(self, query_data):\n",
    "        grids = CNNClassifier.PreprocessImage(query_data)\n",
    "        y_pred = self.__model__.predict(grids).argmax(axis=1)\n",
    "\n",
    "        return LabelArrayToL(y_pred)\n",
    "\n",
    "    def SaveModel(self):\n",
    "        os.makedirs(CNNClassifier.s_check_point_path, exist_ok = True)\n",
    "        __model__.save_weights(CNNClassifier.s_check_point_file_name)\n",
    "\n",
    "    def LoadMostRecentModel(self):\n",
    "        return self.LoadMostRecentModelFromDirectory(CNNClassifier.s_check_point_path)\n",
    "    \n",
    "    def LoadMostRecentModelFromDirectory(self, path):\n",
    "        try:\n",
    "            last_cp = tf.train.latest_checkpoint(path)\n",
    "            self.__model__.load_weights(last_cp)\n",
    "            print(\"Loaded checkpoint from \" + last_cp)\n",
    "            return True\n",
    "        except:\n",
    "            print(\"No checkpoint is loaded.\")\n",
    "            return False\n",
    "\n",
    "    def TestAccuracy(self, test_file_names):\n",
    "        num_files = len(test_file_names)\n",
    "\n",
    "        predict_result = self.__model__.predict(CNNClassifier.func_generator(test_file_names)).argmax(axis=1)\n",
    "        predict_result = predict_result.reshape(num_files, -1)\n",
    "        predicted_fen_arr = np.array([LtoFEN(LabelArrayToL(labels)) for labels in predict_result])\n",
    "        test_fens = np.array([GetCleanNameByPath(file_name) for file_name in test_file_names])\n",
    "\n",
    "        final_accuracy = (predicted_fen_arr == test_fens).astype(np.float).mean()\n",
    "        return final_accuracy\n",
    "\n",
    "    @staticmethod\n",
    "    def PreprocessImage(image):\n",
    "        image = transform.resize(image, (g_down_sampled_size, g_down_sampled_size), mode='constant')\n",
    "        \n",
    "        # 1st and 2nd dim is 8\n",
    "        grids = ImageToGrids(image, g_down_sampled_grid_size, g_down_sampled_grid_size)\n",
    "\n",
    "        # debug\n",
    "        #plt.imshow(grids[0][3])\n",
    "        #plt.show()\n",
    "\n",
    "        return grids.reshape(g_grid_row * g_grid_col, g_down_sampled_grid_size, g_down_sampled_grid_size, 3)"
   ]
  },
  {
   "cell_type": "markdown",
   "metadata": {},
   "source": [
    "#### test code for CNN"
   ]
  },
  {
   "cell_type": "code",
   "execution_count": 44,
   "metadata": {
    "scrolled": false
   },
   "outputs": [
    {
     "name": "stdout",
     "output_type": "stream",
     "text": [
      "Model: \"sequential_4\"\n",
      "_________________________________________________________________\n",
      "Layer (type)                 Output Shape              Param #   \n",
      "=================================================================\n",
      "conv2d_12 (Conv2D)           (None, 23, 23, 32)        896       \n",
      "_________________________________________________________________\n",
      "activation_20 (Activation)   (None, 23, 23, 32)        0         \n",
      "_________________________________________________________________\n",
      "dropout_8 (Dropout)          (None, 23, 23, 32)        0         \n",
      "_________________________________________________________________\n",
      "conv2d_13 (Conv2D)           (None, 21, 21, 32)        9248      \n",
      "_________________________________________________________________\n",
      "activation_21 (Activation)   (None, 21, 21, 32)        0         \n",
      "_________________________________________________________________\n",
      "conv2d_14 (Conv2D)           (None, 19, 19, 32)        9248      \n",
      "_________________________________________________________________\n",
      "activation_22 (Activation)   (None, 19, 19, 32)        0         \n",
      "_________________________________________________________________\n",
      "flatten_4 (Flatten)          (None, 11552)             0         \n",
      "_________________________________________________________________\n",
      "dense_8 (Dense)              (None, 128)               1478784   \n",
      "_________________________________________________________________\n",
      "activation_23 (Activation)   (None, 128)               0         \n",
      "_________________________________________________________________\n",
      "dropout_9 (Dropout)          (None, 128)               0         \n",
      "_________________________________________________________________\n",
      "dense_9 (Dense)              (None, 13)                1677      \n",
      "_________________________________________________________________\n",
      "activation_24 (Activation)   (None, 13)                0         \n",
      "=================================================================\n",
      "Total params: 1,499,853\n",
      "Trainable params: 1,499,853\n",
      "Non-trainable params: 0\n",
      "_________________________________________________________________\n",
      "WARNING:tensorflow:Inconsistent references when loading the checkpoint into this object graph. Either the Trackable object references in the Python program have changed in an incompatible way, or the checkpoint was generated in an incompatible program.\n",
      "\n",
      "Two checkpoint references resolved to different objects (<tensorflow.python.keras.layers.convolutional.Conv2D object at 0x000002923EB8A310> and <tensorflow.python.keras.layers.core.Activation object at 0x000002923EB8A7F0>).\n",
      "WARNING:tensorflow:Inconsistent references when loading the checkpoint into this object graph. Either the Trackable object references in the Python program have changed in an incompatible way, or the checkpoint was generated in an incompatible program.\n",
      "\n",
      "Two checkpoint references resolved to different objects (<tensorflow.python.keras.layers.core.Dense object at 0x000002923EB8AC70> and <tensorflow.python.keras.layers.core.Dropout object at 0x000002923EB8AFD0>).\n",
      "Loaded checkpoint from ./CNN_training_checkpoint\\cp_05-1.00.ckpt\n",
      "predicted: 1b1B1b2-2pK2q1-4p1rB-7k-8-8-3B4-3rb3\n",
      "Original:  1b1B1b2-2pK2q1-4p1rB-7k-8-8-3B4-3rb3\n",
      "CNN: Testing accuracy for 1000 board images.\n",
      "CNN: Final accuracy: 1.0\n"
     ]
    }
   ],
   "source": [
    "if test_CNN_train:\n",
    "    cnn = CNNClassifier()\n",
    "    train_names = GetFileNamesInDir(g_train_dir)\n",
    "    cnn.Train(train_names)\n",
    "\n",
    "\n",
    "if test_CNN_predict:\n",
    "    cnn = CNNClassifier()\n",
    "    cnn.LoadMostRecentModel()\n",
    "    predicted_label = cnn.Predict(ReadImage(a_random_file))\n",
    "    L = predicted_label\n",
    "    FEN = LtoFEN(L)\n",
    "    print(\"predicted: \" + FEN)\n",
    "    print(\"Original:  \" + GetCleanNameByPath(a_random_file))\n",
    "\n",
    "    test_file_names = GetFileNamesInDir(g_test_dir)[:1000]\n",
    "    print(\"CNN: Testing accuracy for {} board images.\".format(len(test_file_names)))\n",
    "    accuracy = cnn.TestAccuracy(test_file_names)\n",
    "    print(\"CNN: Final accuracy: {}\".format(accuracy))"
   ]
  },
  {
   "cell_type": "code",
   "execution_count": 45,
   "metadata": {},
   "outputs": [],
   "source": [
    "from sklearn.ensemble import AdaBoostClassifier\n",
    "from sklearn.svm import SVC\n",
    "from sklearn.tree import DecisionTreeClassifier\n",
    "from sklearn.metrics import accuracy_score\n",
    "import numpy as np\n",
    "\n",
    "# image io and plotting\n",
    "from skimage import io, transform\n",
    "import skimage.util\n",
    "from skimage.util.shape import view_as_blocks\n",
    "from matplotlib import pyplot as plt\n",
    "# parallel processing\n",
    "from joblib import Parallel, delayed\n",
    "# model save and load\n",
    "import pickle\n",
    "import os\n",
    "# profiling\n",
    "import time\n",
    "\n",
    "# joblib needs the kernel to be a top-level function, so we defined it here.\n",
    "def PreprocessKernel(name):\n",
    "    img = DataHelper.ReadImage(name, gray = True)\n",
    "    grids = ABClassifier.ABCPreprocess(img)\n",
    "    labels = np.array(FENtoOneHot(GetCleanNameByPath(name))).argmax(axis=1)\n",
    "    return grids, labels\n",
    "\n",
    "# Adaboost Classifier\n",
    "class ABClassifier(IClassifier):\n",
    "\n",
    "    def __init__(self):\n",
    "        self.__abc__ = AdaBoostClassifier(n_estimators=30, base_estimator = \\\n",
    "                                          DecisionTreeClassifier(criterion='gini', max_depth=5), learning_rate=0.5)\n",
    "\n",
    "    # this method should accept a list of file names of the training data\n",
    "    def Train(self, train_file_names):\n",
    "        print(\"abc: reading image.\")\n",
    "        start_time = time.time()\n",
    "        xs, ys = ABClassifier.PreprocessParallelWrapperFunc(train_file_names)\n",
    "        print(\"abc: finished reading image, {} sec.\".format(time.time() - start_time))\n",
    "        # train\n",
    "        print(\"abc: start training.\")\n",
    "        start_time = time.time()\n",
    "        self.__abc__.fit(xs, ys)\n",
    "        print(\"abc: finished. {} sec.\".format(time.time() - start_time))\n",
    "\n",
    "\n",
    "    # this should accept a 400 * 400 * 3 numpy array as query data, and returns the fen notation of the board.\n",
    "    def Predict(self, query_data):\n",
    "        grids = ABClassifier.ABCPreprocess(query_data)\n",
    "        y_pred = self.__abc__.predict(grids)\n",
    "        \n",
    "        return LabelArrayToL(y_pred)\n",
    "\n",
    "\n",
    "    # parallel pre-process wrapper:\n",
    "    @staticmethod\n",
    "    def PreprocessParallelWrapperFunc(file_names, num_thread = 1):\n",
    "        result = Parallel(n_jobs = num_thread)(delayed(PreprocessKernel)(file_name) for file_name in file_names)\n",
    "        xs, ys = zip(*result)\n",
    "        xs = np.concatenate(xs, axis=0)\n",
    "        ys = np.concatenate(ys)\n",
    "        return xs, ys\n",
    "\n",
    "\n",
    "    @staticmethod\n",
    "    def ABCPreprocess(img):\n",
    "        img = transform.resize(img, (g_down_sampled_size, g_down_sampled_size), mode='constant')\n",
    "        grids = skimage.util.shape.view_as_blocks(img, block_shape = (g_down_sampled_grid_size, g_down_sampled_grid_size))\n",
    "        grids = grids.reshape((-1, grids.shape[3], grids.shape[3]))\n",
    "        grids = grids.reshape((grids.shape[0], grids.shape[1] * grids.shape[1]))\n",
    "        return grids\n",
    "\n",
    "    def SaveModel(self, save_file_name):\n",
    "        os.makedirs(os.path.dirname(save_file_name), exist_ok = True)\n",
    "        with open(save_file_name, 'wb') as file:\n",
    "            pickle.dump(self.__abc__, file)\n",
    "\n",
    "    def LoadModel(self, load_file_name):\n",
    "        with open(load_file_name, 'rb') as file:\n",
    "            self.__abc__ = pickle.load(file)"
   ]
  },
  {
   "cell_type": "markdown",
   "metadata": {},
   "source": [
    "#### Test code for ABC"
   ]
  },
  {
   "cell_type": "code",
   "execution_count": 48,
   "metadata": {},
   "outputs": [
    {
     "name": "stdout",
     "output_type": "stream",
     "text": [
      "abc: loading model from ./saved_model/abc_dump.pkl\n",
      "truth:   0b0B0b0000pK00q00000p0rB0000000k0000000000000000000B0000000rb000\n",
      "pred :   0b0B0b0000pK00q00000p0rB0000000k0000000000000000000B0000000rb000\n"
     ]
    }
   ],
   "source": [
    "if test_ABC:\n",
    "    abc = ABClassifier()\n",
    "    train_names = GetFileNamesInDir(g_train_dir)\n",
    "\n",
    "    if ABC_load_model:\n",
    "        print(\"abc: loading model from \" + abc_model_file)\n",
    "        abc.LoadModel(abc_model_file)\n",
    "    else:\n",
    "        abc.Train(train_names)\n",
    "\n",
    "    y_truth = FENtoL(GetCleanNameByPath(a_random_file))\n",
    "    img = ReadImage(a_random_file, gray = True)\n",
    "    pred = abc.Predict(img)\n",
    "    print(\"truth:  \", ''.join(y_truth))\n",
    "    print(\"pred :  \", ''.join(pred))\n",
    "\n",
    "    # save model\n",
    "    if not ABC_load_model:\n",
    "        print(\"abc: saving model to \" + abc_model_file)\n",
    "        abc.SaveModel(abc_model_file)"
   ]
  },
  {
   "cell_type": "markdown",
   "metadata": {},
   "source": [
    "### Bonus: GUI: see GUI_with_Classifiers.ipynb"
   ]
  }
 ],
 "metadata": {
  "kernelspec": {
   "display_name": "Python 3",
   "language": "python",
   "name": "python3"
  },
  "language_info": {
   "codemirror_mode": {
    "name": "ipython",
    "version": 3
   },
   "file_extension": ".py",
   "mimetype": "text/x-python",
   "name": "python",
   "nbconvert_exporter": "python",
   "pygments_lexer": "ipython3",
   "version": "3.8.3"
  }
 },
 "nbformat": 4,
 "nbformat_minor": 2
}
